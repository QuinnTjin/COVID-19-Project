{
 "cells": [
  {
   "cell_type": "markdown",
   "metadata": {},
   "source": [
    "## Project Stage - III (Basic Machine Learning)"
   ]
  },
  {
   "cell_type": "markdown",
   "metadata": {},
   "source": [
    "## Goals\n",
    "\n",
    "The goal of Stage II is to utlize machine learning and statistical models to predict the trend of COVID-19 cases / deaths."
   ]
  },
  {
   "cell_type": "markdown",
   "metadata": {},
   "source": [
    "### Tasks:\n",
    "\n",
    "#### Task 1: (70 pts)\n",
    "- Team: (30)\n",
    "    - Develop Linear and Non-Linear (polynomial) regression models for predicting cases and deaths in US. \n",
    "        - Aim to predict 1 week in advance. Use older data to validate your models. \n",
    "        - Describe the trends as compared to other countries. \n",
    "- Member: (40 pts)\n",
    "    - Utilize Linear and Non-Linear (polynomial) regression models to compare trends for a single state and its counties. \n",
    "    - Identify which counties are most at risk.\n",
    "    - Utilize the hospital data to calculate the point of no return for a state. \n",
    "    - Utilize decision tree, random forest, and ARIMA (https://machinelearningmastery.com/arima-for-time-series-forecasting-with-python/) based models to compare and contrast the performance of each. \n",
    "    - Use 5 different variables from the enrichment data to predict the spread rate (cases and deaths) of COVID-19 in a county.\n",
    "        - For example, percentage of population in certain age-group, socio-economic status, public transportation, work from home, etc.\n",
    "        - Show the relative importance of variables and explain why. \n",
    "    \n",
    "#### Task 2: (30 pts)\n",
    "- Member:\n",
    "    - For each of the aforemention analysis plot graphs,\n",
    "        - trend line\n",
    "        - confidence intervals\n",
    "        - prediction path\n",
    "\n",
    "**Deliverable**\n",
    "- Report upload on canvas.\n",
    "- Each member creates separate notebooks for member tasks. Upload all notebooks to Github Repository. "
   ]
  },
  {
   "cell_type": "markdown",
   "metadata": {},
   "source": [
    "## Deadline: 11/15/2020"
   ]
  },
  {
   "cell_type": "code",
   "execution_count": null,
   "metadata": {},
   "outputs": [],
   "source": []
  }
 ],
 "metadata": {
  "kernelspec": {
   "display_name": "Python 2",
   "language": "python",
   "name": "python2"
  },
  "language_info": {
   "codemirror_mode": {
    "name": "ipython",
    "version": 2
   },
   "file_extension": ".py",
   "mimetype": "text/x-python",
   "name": "python",
   "nbconvert_exporter": "python",
   "pygments_lexer": "ipython2",
   "version": "2.7.18"
  }
 },
 "nbformat": 4,
 "nbformat_minor": 2
}
