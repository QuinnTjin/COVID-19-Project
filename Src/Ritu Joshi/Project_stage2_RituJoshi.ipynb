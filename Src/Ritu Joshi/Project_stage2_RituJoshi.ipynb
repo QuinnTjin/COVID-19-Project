{
 "cells": [
  {
   "cell_type": "markdown",
   "metadata": {},
   "source": [
    "## Project Stage - II (Data Modeling and Hypothesis Testing)"
   ]
  },
  {
   "cell_type": "markdown",
   "metadata": {},
   "source": [
    "## Goals\n",
    "\n",
    "The goal of Stage II is to develop formal hypothesis tests for the intuitions you had in Stage I and utilize statistical modeling to prove/disprove them."
   ]
  },
  {
   "cell_type": "markdown",
   "metadata": {},
   "source": [
    "### Tasks:\n",
    "\n",
    "#### Task 1: (50 pts)\n",
    "- Team: (25)\n",
    "    - Compare the weekly statistics (mean, median, mode) for number of new cases and deaths across US. You are calculating mean (rounded to integer value) number of new cases and per week and then calculating (mean, median, mode) for all week taken together. \n",
    "    - Compare the data against other countries of the world. Data at: https://ourworldindata.org/coronavirus-source-data\n",
    "        - Choose atleast 5 similar populations countries to compare. \n",
    "    - Plot daily trends (cases and deaths) of US and compare other countries. Utilize aggregrate, normalized by population, difference in cases (new cases), and log normalized values. \n",
    "    - Identify peak week of the cases and deaths in US and other countries. \n",
    "- Member: (25 pts)\n",
    "    - Generate weekly statistics (mean, median, mode) for number of new cases and deaths across a specific state. \n",
    "    - Compare the data against other states. (normalize by population)\n",
    "    - Identify counties within the previous state with high case and death rates. (normalize by population)\n",
    "    - Plot daily trends (cases and deaths, new cases) of state and top 5 infected counties. Utilize aggregrate, normalized by population, and log normalized values. \n",
    "\n",
    "\n",
    "    \n",
    "#### Task 2: (50 pts)\n",
    "- Member:\n",
    "    - Fit a distribution to the number of COVID-19 cases of a state. \n",
    "        - Graphically plot the distribution and describe the distribution statistics. If using discrete values, calculate the Probability Mass Function for the individual values or range (if using histogram) and plot that.\n",
    "        - Describe why the distribution was choosen and its statistics in the report and the notebook. \n",
    "    - Model a poission distribution of COVID-19 cases and deaths of a state and compare to other 5 states. For example, Number of new cases and deaths per 100,000 populations. (normalize by population, you can choose a different normalization factor that 100,000)\n",
    "    - Model poission distributions for North Carolina counties COVID-19 in cases and deaths. For example, Number of new cases and deaths per 100,000 populations. \n",
    "    - Perform corelation between Enrichment data valiables and COVID-19 cases to observe any patterns.\n",
    "        - You can compare either within your chosen specific state or among different states with the different enrichment variables. Within the state you can compare the county based data to enrichment for correlation. Between states you would need to aggregate to state level data and then perform correlation. \n",
    "    - Formulate hypothesis between Enrichment data and number of cases to be compared against states. Choose 3 different variables to compare against. \n",
    "        - For example: *Does higher employment data lead to higher covid case numbers or more rapid increase in covid cases.* \n",
    "\n",
    "\n",
    "**Deliverable**\n",
    "- Report upload on canvas.\n",
    "- Each member creates separate notebooks for member tasks. Upload all notebooks to Github Repository. \n",
    "\n",
    "*PS: Try to use `Plotly` for your charts. Will be useful in Stage IV*"
   ]
  },
  {
   "cell_type": "markdown",
   "metadata": {},
   "source": [
    "## Deadline: 10/22/2020"
   ]
  },
  {
   "cell_type": "markdown",
   "metadata": {},
   "source": [
    "## Import Libraries"
   ]
  },
  {
   "cell_type": "code",
   "execution_count": 653,
   "metadata": {},
   "outputs": [
    {
     "name": "stdout",
     "output_type": "stream",
     "text": [
      "Requirement already satisfied: chart-studio in /Applications/anaconda3/envs/projectenv/lib/python3.7/site-packages (1.1.0)\n",
      "Requirement already satisfied: retrying>=1.3.3 in /Applications/anaconda3/envs/projectenv/lib/python3.7/site-packages (from chart-studio) (1.3.3)\n",
      "Requirement already satisfied: six in /Applications/anaconda3/envs/projectenv/lib/python3.7/site-packages (from chart-studio) (1.13.0)\n",
      "Requirement already satisfied: requests in /Applications/anaconda3/envs/projectenv/lib/python3.7/site-packages (from chart-studio) (2.22.0)\n",
      "Requirement already satisfied: plotly in /Applications/anaconda3/envs/projectenv/lib/python3.7/site-packages (from chart-studio) (4.9.0)\n",
      "Requirement already satisfied: chardet<3.1.0,>=3.0.2 in /Applications/anaconda3/envs/projectenv/lib/python3.7/site-packages (from requests->chart-studio) (3.0.4)\n",
      "Requirement already satisfied: certifi>=2017.4.17 in /Applications/anaconda3/envs/projectenv/lib/python3.7/site-packages (from requests->chart-studio) (2020.6.20)\n",
      "Requirement already satisfied: idna<2.9,>=2.5 in /Applications/anaconda3/envs/projectenv/lib/python3.7/site-packages (from requests->chart-studio) (2.8)\n",
      "Requirement already satisfied: urllib3!=1.25.0,!=1.25.1,<1.26,>=1.21.1 in /Applications/anaconda3/envs/projectenv/lib/python3.7/site-packages (from requests->chart-studio) (1.25.7)\n",
      "\u001b[33mWARNING: You are using pip version 20.0.2; however, version 20.2.4 is available.\n",
      "You should consider upgrading via the '/Applications/anaconda3/envs/projectenv/bin/python -m pip install --upgrade pip' command.\u001b[0m\n"
     ]
    }
   ],
   "source": [
    "# installing chart-studio library for using plotly\n",
    "! pip install chart-studio"
   ]
  },
  {
   "cell_type": "markdown",
   "metadata": {},
   "source": [
    "## Import libraries"
   ]
  },
  {
   "cell_type": "code",
   "execution_count": 654,
   "metadata": {},
   "outputs": [],
   "source": [
    "import pandas as pd\n",
    "import numpy as np\n",
    "import matplotlib.pyplot as plt\n",
    "# import cufflinks as cf\n",
    "# import plotly.plotly as py\n",
    "import chart_studio.plotly as py\n",
    "import chart_studio.tools as tls\n",
    "import plotly.graph_objs as go\n",
    "from datetime import datetime\n",
    "import scipy as sc\n",
    "from scipy.stats.distributions import poisson\n",
    "import plotly.express as px\n",
    "import plotly.graph_objects as go\n",
    "from scipy.stats import kurtosis,skew,poisson\n",
    "import statistics as st\n",
    "import plotly.io as pio\n",
    "from IPython.display import Image"
   ]
  },
  {
   "cell_type": "markdown",
   "metadata": {},
   "source": [
    "## Set credentials for using plotly"
   ]
  },
  {
   "cell_type": "code",
   "execution_count": 655,
   "metadata": {},
   "outputs": [],
   "source": [
    "tls.set_credentials_file(username='ritupandey1', api_key='xfclHpjv0I99MaxeDKN5')"
   ]
  },
  {
   "cell_type": "markdown",
   "metadata": {},
   "source": [
    "## Read merged COVID19 csv file "
   ]
  },
  {
   "cell_type": "code",
   "execution_count": 656,
   "metadata": {},
   "outputs": [],
   "source": [
    "# COVID-19 dataset\n",
    "COVID19 = \"../Data/Output/Merged_COVID19_file.csv\"\n",
    "merged_COVID19 = pd.read_csv(COVID19)\n"
   ]
  },
  {
   "cell_type": "markdown",
   "metadata": {},
   "source": [
    "## Format date into datetime"
   ]
  },
  {
   "cell_type": "code",
   "execution_count": 657,
   "metadata": {},
   "outputs": [
    {
     "data": {
      "text/html": [
       "<div>\n",
       "<style scoped>\n",
       "    .dataframe tbody tr th:only-of-type {\n",
       "        vertical-align: middle;\n",
       "    }\n",
       "\n",
       "    .dataframe tbody tr th {\n",
       "        vertical-align: top;\n",
       "    }\n",
       "\n",
       "    .dataframe thead th {\n",
       "        text-align: right;\n",
       "    }\n",
       "</style>\n",
       "<table border=\"1\" class=\"dataframe\">\n",
       "  <thead>\n",
       "    <tr style=\"text-align: right;\">\n",
       "      <th></th>\n",
       "      <th>countyFIPS</th>\n",
       "      <th>stateFIPS</th>\n",
       "      <th>dates</th>\n",
       "      <th>County Name</th>\n",
       "      <th>State</th>\n",
       "      <th>population</th>\n",
       "      <th>confirmed_cases</th>\n",
       "      <th>deaths</th>\n",
       "    </tr>\n",
       "  </thead>\n",
       "  <tbody>\n",
       "    <tr>\n",
       "      <th>0</th>\n",
       "      <td>0</td>\n",
       "      <td>2</td>\n",
       "      <td>2020-01-22</td>\n",
       "      <td>Statewide Unallocated</td>\n",
       "      <td>AK</td>\n",
       "      <td>0</td>\n",
       "      <td>0</td>\n",
       "      <td>0</td>\n",
       "    </tr>\n",
       "    <tr>\n",
       "      <th>1</th>\n",
       "      <td>0</td>\n",
       "      <td>2</td>\n",
       "      <td>2020-01-23</td>\n",
       "      <td>Statewide Unallocated</td>\n",
       "      <td>AK</td>\n",
       "      <td>0</td>\n",
       "      <td>0</td>\n",
       "      <td>0</td>\n",
       "    </tr>\n",
       "    <tr>\n",
       "      <th>2</th>\n",
       "      <td>0</td>\n",
       "      <td>2</td>\n",
       "      <td>2020-01-24</td>\n",
       "      <td>Statewide Unallocated</td>\n",
       "      <td>AK</td>\n",
       "      <td>0</td>\n",
       "      <td>0</td>\n",
       "      <td>0</td>\n",
       "    </tr>\n",
       "    <tr>\n",
       "      <th>3</th>\n",
       "      <td>0</td>\n",
       "      <td>2</td>\n",
       "      <td>2020-01-25</td>\n",
       "      <td>Statewide Unallocated</td>\n",
       "      <td>AK</td>\n",
       "      <td>0</td>\n",
       "      <td>0</td>\n",
       "      <td>0</td>\n",
       "    </tr>\n",
       "    <tr>\n",
       "      <th>4</th>\n",
       "      <td>0</td>\n",
       "      <td>2</td>\n",
       "      <td>2020-01-26</td>\n",
       "      <td>Statewide Unallocated</td>\n",
       "      <td>AK</td>\n",
       "      <td>0</td>\n",
       "      <td>0</td>\n",
       "      <td>0</td>\n",
       "    </tr>\n",
       "  </tbody>\n",
       "</table>\n",
       "</div>"
      ],
      "text/plain": [
       "   countyFIPS  stateFIPS      dates            County Name State  population  \\\n",
       "0           0          2 2020-01-22  Statewide Unallocated    AK           0   \n",
       "1           0          2 2020-01-23  Statewide Unallocated    AK           0   \n",
       "2           0          2 2020-01-24  Statewide Unallocated    AK           0   \n",
       "3           0          2 2020-01-25  Statewide Unallocated    AK           0   \n",
       "4           0          2 2020-01-26  Statewide Unallocated    AK           0   \n",
       "\n",
       "   confirmed_cases  deaths  \n",
       "0                0       0  \n",
       "1                0       0  \n",
       "2                0       0  \n",
       "3                0       0  \n",
       "4                0       0  "
      ]
     },
     "execution_count": 657,
     "metadata": {},
     "output_type": "execute_result"
    }
   ],
   "source": [
    "merged_COVID19['dates'] = pd.to_datetime(merged_COVID19.dates)\n",
    "merged_COVID19.head()"
   ]
  },
  {
   "cell_type": "markdown",
   "metadata": {},
   "source": [
    "## Selected state is Virginia\n",
    "     - New confirmed cases and deaths across Virginia on each day (calculated by using dataframe.diff() method)"
   ]
  },
  {
   "cell_type": "code",
   "execution_count": 658,
   "metadata": {},
   "outputs": [
    {
     "name": "stdout",
     "output_type": "stream",
     "text": [
      "Population of Virginia is :  6802317\n"
     ]
    },
    {
     "data": {
      "text/html": [
       "<div>\n",
       "<style scoped>\n",
       "    .dataframe tbody tr th:only-of-type {\n",
       "        vertical-align: middle;\n",
       "    }\n",
       "\n",
       "    .dataframe tbody tr th {\n",
       "        vertical-align: top;\n",
       "    }\n",
       "\n",
       "    .dataframe thead th {\n",
       "        text-align: right;\n",
       "    }\n",
       "</style>\n",
       "<table border=\"1\" class=\"dataframe\">\n",
       "  <thead>\n",
       "    <tr style=\"text-align: right;\">\n",
       "      <th></th>\n",
       "      <th>countyFIPS</th>\n",
       "      <th>stateFIPS</th>\n",
       "      <th>dates</th>\n",
       "      <th>County Name</th>\n",
       "      <th>State</th>\n",
       "      <th>population</th>\n",
       "      <th>confirmed_cases</th>\n",
       "      <th>deaths</th>\n",
       "      <th>conf_diff</th>\n",
       "      <th>deaths_diff</th>\n",
       "    </tr>\n",
       "  </thead>\n",
       "  <tbody>\n",
       "    <tr>\n",
       "      <th>10472</th>\n",
       "      <td>0</td>\n",
       "      <td>51</td>\n",
       "      <td>2020-01-22</td>\n",
       "      <td>Statewide Unallocated</td>\n",
       "      <td>VA</td>\n",
       "      <td>0</td>\n",
       "      <td>0</td>\n",
       "      <td>0</td>\n",
       "      <td>0.0</td>\n",
       "      <td>0.0</td>\n",
       "    </tr>\n",
       "    <tr>\n",
       "      <th>10473</th>\n",
       "      <td>0</td>\n",
       "      <td>51</td>\n",
       "      <td>2020-01-23</td>\n",
       "      <td>Statewide Unallocated</td>\n",
       "      <td>VA</td>\n",
       "      <td>0</td>\n",
       "      <td>0</td>\n",
       "      <td>0</td>\n",
       "      <td>0.0</td>\n",
       "      <td>0.0</td>\n",
       "    </tr>\n",
       "    <tr>\n",
       "      <th>10474</th>\n",
       "      <td>0</td>\n",
       "      <td>51</td>\n",
       "      <td>2020-01-24</td>\n",
       "      <td>Statewide Unallocated</td>\n",
       "      <td>VA</td>\n",
       "      <td>0</td>\n",
       "      <td>0</td>\n",
       "      <td>0</td>\n",
       "      <td>0.0</td>\n",
       "      <td>0.0</td>\n",
       "    </tr>\n",
       "    <tr>\n",
       "      <th>10475</th>\n",
       "      <td>0</td>\n",
       "      <td>51</td>\n",
       "      <td>2020-01-25</td>\n",
       "      <td>Statewide Unallocated</td>\n",
       "      <td>VA</td>\n",
       "      <td>0</td>\n",
       "      <td>0</td>\n",
       "      <td>0</td>\n",
       "      <td>0.0</td>\n",
       "      <td>0.0</td>\n",
       "    </tr>\n",
       "    <tr>\n",
       "      <th>10476</th>\n",
       "      <td>0</td>\n",
       "      <td>51</td>\n",
       "      <td>2020-01-26</td>\n",
       "      <td>Statewide Unallocated</td>\n",
       "      <td>VA</td>\n",
       "      <td>0</td>\n",
       "      <td>0</td>\n",
       "      <td>0</td>\n",
       "      <td>0.0</td>\n",
       "      <td>0.0</td>\n",
       "    </tr>\n",
       "    <tr>\n",
       "      <th>...</th>\n",
       "      <td>...</td>\n",
       "      <td>...</td>\n",
       "      <td>...</td>\n",
       "      <td>...</td>\n",
       "      <td>...</td>\n",
       "      <td>...</td>\n",
       "      <td>...</td>\n",
       "      <td>...</td>\n",
       "      <td>...</td>\n",
       "      <td>...</td>\n",
       "    </tr>\n",
       "    <tr>\n",
       "      <th>711615</th>\n",
       "      <td>51840</td>\n",
       "      <td>51</td>\n",
       "      <td>2020-09-05</td>\n",
       "      <td>Winchester city</td>\n",
       "      <td>VA</td>\n",
       "      <td>28078</td>\n",
       "      <td>455</td>\n",
       "      <td>4</td>\n",
       "      <td>0.0</td>\n",
       "      <td>0.0</td>\n",
       "    </tr>\n",
       "    <tr>\n",
       "      <th>711616</th>\n",
       "      <td>51840</td>\n",
       "      <td>51</td>\n",
       "      <td>2020-09-06</td>\n",
       "      <td>Winchester city</td>\n",
       "      <td>VA</td>\n",
       "      <td>28078</td>\n",
       "      <td>459</td>\n",
       "      <td>4</td>\n",
       "      <td>4.0</td>\n",
       "      <td>0.0</td>\n",
       "    </tr>\n",
       "    <tr>\n",
       "      <th>711617</th>\n",
       "      <td>51840</td>\n",
       "      <td>51</td>\n",
       "      <td>2020-09-07</td>\n",
       "      <td>Winchester city</td>\n",
       "      <td>VA</td>\n",
       "      <td>28078</td>\n",
       "      <td>461</td>\n",
       "      <td>4</td>\n",
       "      <td>2.0</td>\n",
       "      <td>0.0</td>\n",
       "    </tr>\n",
       "    <tr>\n",
       "      <th>711618</th>\n",
       "      <td>51840</td>\n",
       "      <td>51</td>\n",
       "      <td>2020-09-08</td>\n",
       "      <td>Winchester city</td>\n",
       "      <td>VA</td>\n",
       "      <td>28078</td>\n",
       "      <td>461</td>\n",
       "      <td>4</td>\n",
       "      <td>0.0</td>\n",
       "      <td>0.0</td>\n",
       "    </tr>\n",
       "    <tr>\n",
       "      <th>711619</th>\n",
       "      <td>51840</td>\n",
       "      <td>51</td>\n",
       "      <td>2020-09-09</td>\n",
       "      <td>Winchester city</td>\n",
       "      <td>VA</td>\n",
       "      <td>28078</td>\n",
       "      <td>461</td>\n",
       "      <td>4</td>\n",
       "      <td>0.0</td>\n",
       "      <td>0.0</td>\n",
       "    </tr>\n",
       "  </tbody>\n",
       "</table>\n",
       "<p>28798 rows × 10 columns</p>\n",
       "</div>"
      ],
      "text/plain": [
       "        countyFIPS  stateFIPS      dates            County Name State  \\\n",
       "10472            0         51 2020-01-22  Statewide Unallocated    VA   \n",
       "10473            0         51 2020-01-23  Statewide Unallocated    VA   \n",
       "10474            0         51 2020-01-24  Statewide Unallocated    VA   \n",
       "10475            0         51 2020-01-25  Statewide Unallocated    VA   \n",
       "10476            0         51 2020-01-26  Statewide Unallocated    VA   \n",
       "...            ...        ...        ...                    ...   ...   \n",
       "711615       51840         51 2020-09-05        Winchester city    VA   \n",
       "711616       51840         51 2020-09-06        Winchester city    VA   \n",
       "711617       51840         51 2020-09-07        Winchester city    VA   \n",
       "711618       51840         51 2020-09-08        Winchester city    VA   \n",
       "711619       51840         51 2020-09-09        Winchester city    VA   \n",
       "\n",
       "        population  confirmed_cases  deaths  conf_diff  deaths_diff  \n",
       "10472            0                0       0        0.0          0.0  \n",
       "10473            0                0       0        0.0          0.0  \n",
       "10474            0                0       0        0.0          0.0  \n",
       "10475            0                0       0        0.0          0.0  \n",
       "10476            0                0       0        0.0          0.0  \n",
       "...            ...              ...     ...        ...          ...  \n",
       "711615       28078              455       4        0.0          0.0  \n",
       "711616       28078              459       4        4.0          0.0  \n",
       "711617       28078              461       4        2.0          0.0  \n",
       "711618       28078              461       4        0.0          0.0  \n",
       "711619       28078              461       4        0.0          0.0  \n",
       "\n",
       "[28798 rows x 10 columns]"
      ]
     },
     "execution_count": 658,
     "metadata": {},
     "output_type": "execute_result"
    }
   ],
   "source": [
    "# The merged file contains the total confirmed cases and total deaths upto that day.\n",
    "merged_COVID19_VA = merged_COVID19[merged_COVID19['State']=='VA'].copy()\n",
    "population_VA = merged_COVID19_VA.groupby('dates')['population'].sum()[1]\n",
    "print('Population of Virginia is : ',population_VA)\n",
    "\n",
    "# Find new cases county wise\n",
    "COVID19_VA_new_cases = merged_COVID19_VA.copy()\n",
    "COVID19_VA_new_cases['conf_diff'] = merged_COVID19_VA.sort_values(['County Name','dates'])['confirmed_cases'].diff().fillna(0)\n",
    "COVID19_VA_new_cases['deaths_diff'] = merged_COVID19_VA.sort_values(['County Name','dates'])['deaths'].diff().fillna(0)\n",
    "\n",
    "# Replace negative values with 0 for conf_diff and deaths_diff\n",
    "COVID19_VA_new_cases['conf_diff'] = np.where(COVID19_VA_new_cases['conf_diff']<0,0,COVID19_VA_new_cases['conf_diff'])\n",
    "COVID19_VA_new_cases['deaths_diff'] = np.where(COVID19_VA_new_cases['deaths_diff']<0,0,COVID19_VA_new_cases['deaths_diff'])\n",
    "\n",
    "COVID19_VA_new_cases"
   ]
  },
  {
   "cell_type": "markdown",
   "metadata": {},
   "source": [
    "## New confirmed cases and deaths across Virginia on each day (calculated by adding the new cases for each day across counties) (aggregation)"
   ]
  },
  {
   "cell_type": "code",
   "execution_count": 659,
   "metadata": {
    "scrolled": true
   },
   "outputs": [
    {
     "data": {
      "text/html": [
       "<div>\n",
       "<style scoped>\n",
       "    .dataframe tbody tr th:only-of-type {\n",
       "        vertical-align: middle;\n",
       "    }\n",
       "\n",
       "    .dataframe tbody tr th {\n",
       "        vertical-align: top;\n",
       "    }\n",
       "\n",
       "    .dataframe thead th {\n",
       "        text-align: right;\n",
       "    }\n",
       "</style>\n",
       "<table border=\"1\" class=\"dataframe\">\n",
       "  <thead>\n",
       "    <tr style=\"text-align: right;\">\n",
       "      <th></th>\n",
       "      <th>dates</th>\n",
       "      <th>conf_diff</th>\n",
       "      <th>deaths_diff</th>\n",
       "    </tr>\n",
       "  </thead>\n",
       "  <tbody>\n",
       "    <tr>\n",
       "      <th>0</th>\n",
       "      <td>2020-01-22</td>\n",
       "      <td>0.0</td>\n",
       "      <td>0.0</td>\n",
       "    </tr>\n",
       "    <tr>\n",
       "      <th>1</th>\n",
       "      <td>2020-01-23</td>\n",
       "      <td>0.0</td>\n",
       "      <td>0.0</td>\n",
       "    </tr>\n",
       "    <tr>\n",
       "      <th>2</th>\n",
       "      <td>2020-01-24</td>\n",
       "      <td>0.0</td>\n",
       "      <td>0.0</td>\n",
       "    </tr>\n",
       "    <tr>\n",
       "      <th>3</th>\n",
       "      <td>2020-01-25</td>\n",
       "      <td>0.0</td>\n",
       "      <td>0.0</td>\n",
       "    </tr>\n",
       "    <tr>\n",
       "      <th>4</th>\n",
       "      <td>2020-01-26</td>\n",
       "      <td>0.0</td>\n",
       "      <td>0.0</td>\n",
       "    </tr>\n",
       "    <tr>\n",
       "      <th>...</th>\n",
       "      <td>...</td>\n",
       "      <td>...</td>\n",
       "      <td>...</td>\n",
       "    </tr>\n",
       "    <tr>\n",
       "      <th>233</th>\n",
       "      <td>2020-09-11</td>\n",
       "      <td>870.0</td>\n",
       "      <td>3.0</td>\n",
       "    </tr>\n",
       "    <tr>\n",
       "      <th>234</th>\n",
       "      <td>2020-09-12</td>\n",
       "      <td>996.0</td>\n",
       "      <td>10.0</td>\n",
       "    </tr>\n",
       "    <tr>\n",
       "      <th>235</th>\n",
       "      <td>2020-09-13</td>\n",
       "      <td>683.0</td>\n",
       "      <td>2.0</td>\n",
       "    </tr>\n",
       "    <tr>\n",
       "      <th>236</th>\n",
       "      <td>2020-09-14</td>\n",
       "      <td>602.0</td>\n",
       "      <td>16.0</td>\n",
       "    </tr>\n",
       "    <tr>\n",
       "      <th>237</th>\n",
       "      <td>2020-09-15</td>\n",
       "      <td>689.0</td>\n",
       "      <td>73.0</td>\n",
       "    </tr>\n",
       "  </tbody>\n",
       "</table>\n",
       "<p>238 rows × 3 columns</p>\n",
       "</div>"
      ],
      "text/plain": [
       "         dates  conf_diff  deaths_diff\n",
       "0   2020-01-22        0.0          0.0\n",
       "1   2020-01-23        0.0          0.0\n",
       "2   2020-01-24        0.0          0.0\n",
       "3   2020-01-25        0.0          0.0\n",
       "4   2020-01-26        0.0          0.0\n",
       "..         ...        ...          ...\n",
       "233 2020-09-11      870.0          3.0\n",
       "234 2020-09-12      996.0         10.0\n",
       "235 2020-09-13      683.0          2.0\n",
       "236 2020-09-14      602.0         16.0\n",
       "237 2020-09-15      689.0         73.0\n",
       "\n",
       "[238 rows x 3 columns]"
      ]
     },
     "execution_count": 659,
     "metadata": {},
     "output_type": "execute_result"
    }
   ],
   "source": [
    "VA_New_Cases_agg  = COVID19_VA_new_cases.groupby('dates').agg(np.sum)[['conf_diff','deaths_diff']].reset_index()\n",
    "VA_New_Cases_agg.head(240)\n",
    "\n"
   ]
  },
  {
   "cell_type": "markdown",
   "metadata": {},
   "source": [
    "# Task 1 (Member)\n",
    "## Mean, Median and Mode\n",
    "## - Generate weekly statistics (mean, median, mode) for number of cases and deaths across a specific state."
   ]
  },
  {
   "cell_type": "markdown",
   "metadata": {},
   "source": [
    "### Mean/median/Mode calculated for each week and the values rounded"
   ]
  },
  {
   "cell_type": "code",
   "execution_count": 660,
   "metadata": {},
   "outputs": [
    {
     "data": {
      "text/html": [
       "<div>\n",
       "<style scoped>\n",
       "    .dataframe tbody tr th:only-of-type {\n",
       "        vertical-align: middle;\n",
       "    }\n",
       "\n",
       "    .dataframe tbody tr th {\n",
       "        vertical-align: top;\n",
       "    }\n",
       "\n",
       "    .dataframe thead th {\n",
       "        text-align: right;\n",
       "    }\n",
       "</style>\n",
       "<table border=\"1\" class=\"dataframe\">\n",
       "  <thead>\n",
       "    <tr style=\"text-align: right;\">\n",
       "      <th></th>\n",
       "      <th>conf_diff_mean</th>\n",
       "      <th>deaths_diff_mean</th>\n",
       "    </tr>\n",
       "    <tr>\n",
       "      <th>dates</th>\n",
       "      <th></th>\n",
       "      <th></th>\n",
       "    </tr>\n",
       "  </thead>\n",
       "  <tbody>\n",
       "    <tr>\n",
       "      <th>2020-01-26</th>\n",
       "      <td>0.0</td>\n",
       "      <td>0.0</td>\n",
       "    </tr>\n",
       "    <tr>\n",
       "      <th>2020-02-02</th>\n",
       "      <td>0.0</td>\n",
       "      <td>0.0</td>\n",
       "    </tr>\n",
       "    <tr>\n",
       "      <th>2020-02-09</th>\n",
       "      <td>0.0</td>\n",
       "      <td>0.0</td>\n",
       "    </tr>\n",
       "    <tr>\n",
       "      <th>2020-02-16</th>\n",
       "      <td>0.0</td>\n",
       "      <td>0.0</td>\n",
       "    </tr>\n",
       "    <tr>\n",
       "      <th>2020-02-23</th>\n",
       "      <td>0.0</td>\n",
       "      <td>0.0</td>\n",
       "    </tr>\n",
       "    <tr>\n",
       "      <th>2020-03-01</th>\n",
       "      <td>0.0</td>\n",
       "      <td>0.0</td>\n",
       "    </tr>\n",
       "    <tr>\n",
       "      <th>2020-03-08</th>\n",
       "      <td>0.0</td>\n",
       "      <td>0.0</td>\n",
       "    </tr>\n",
       "    <tr>\n",
       "      <th>2020-03-15</th>\n",
       "      <td>4.0</td>\n",
       "      <td>0.0</td>\n",
       "    </tr>\n",
       "    <tr>\n",
       "      <th>2020-03-22</th>\n",
       "      <td>21.0</td>\n",
       "      <td>0.0</td>\n",
       "    </tr>\n",
       "    <tr>\n",
       "      <th>2020-03-29</th>\n",
       "      <td>78.0</td>\n",
       "      <td>3.0</td>\n",
       "    </tr>\n",
       "  </tbody>\n",
       "</table>\n",
       "</div>"
      ],
      "text/plain": [
       "            conf_diff_mean  deaths_diff_mean\n",
       "dates                                       \n",
       "2020-01-26             0.0               0.0\n",
       "2020-02-02             0.0               0.0\n",
       "2020-02-09             0.0               0.0\n",
       "2020-02-16             0.0               0.0\n",
       "2020-02-23             0.0               0.0\n",
       "2020-03-01             0.0               0.0\n",
       "2020-03-08             0.0               0.0\n",
       "2020-03-15             4.0               0.0\n",
       "2020-03-22            21.0               0.0\n",
       "2020-03-29            78.0               3.0"
      ]
     },
     "execution_count": 660,
     "metadata": {},
     "output_type": "execute_result"
    }
   ],
   "source": [
    "# mean (Dates grouped by a week)\n",
    "mean_va = VA_New_Cases_agg.groupby(pd.Grouper(key='dates', freq='1W'))['conf_diff','deaths_diff'].mean().add_suffix('_mean')\n",
    "mean_va = mean_va.round()\n",
    "mean_va.head(10)\n"
   ]
  },
  {
   "cell_type": "code",
   "execution_count": 661,
   "metadata": {
    "scrolled": true
   },
   "outputs": [
    {
     "data": {
      "text/html": [
       "<div>\n",
       "<style scoped>\n",
       "    .dataframe tbody tr th:only-of-type {\n",
       "        vertical-align: middle;\n",
       "    }\n",
       "\n",
       "    .dataframe tbody tr th {\n",
       "        vertical-align: top;\n",
       "    }\n",
       "\n",
       "    .dataframe thead th {\n",
       "        text-align: right;\n",
       "    }\n",
       "</style>\n",
       "<table border=\"1\" class=\"dataframe\">\n",
       "  <thead>\n",
       "    <tr style=\"text-align: right;\">\n",
       "      <th></th>\n",
       "      <th>conf_diff_median</th>\n",
       "      <th>deaths_diff_median</th>\n",
       "    </tr>\n",
       "    <tr>\n",
       "      <th>dates</th>\n",
       "      <th></th>\n",
       "      <th></th>\n",
       "    </tr>\n",
       "  </thead>\n",
       "  <tbody>\n",
       "    <tr>\n",
       "      <th>2020-01-26</th>\n",
       "      <td>0.0</td>\n",
       "      <td>0.0</td>\n",
       "    </tr>\n",
       "    <tr>\n",
       "      <th>2020-02-02</th>\n",
       "      <td>0.0</td>\n",
       "      <td>0.0</td>\n",
       "    </tr>\n",
       "    <tr>\n",
       "      <th>2020-02-09</th>\n",
       "      <td>0.0</td>\n",
       "      <td>0.0</td>\n",
       "    </tr>\n",
       "    <tr>\n",
       "      <th>2020-02-16</th>\n",
       "      <td>0.0</td>\n",
       "      <td>0.0</td>\n",
       "    </tr>\n",
       "    <tr>\n",
       "      <th>2020-02-23</th>\n",
       "      <td>0.0</td>\n",
       "      <td>0.0</td>\n",
       "    </tr>\n",
       "    <tr>\n",
       "      <th>2020-03-01</th>\n",
       "      <td>0.0</td>\n",
       "      <td>0.0</td>\n",
       "    </tr>\n",
       "    <tr>\n",
       "      <th>2020-03-08</th>\n",
       "      <td>0.0</td>\n",
       "      <td>0.0</td>\n",
       "    </tr>\n",
       "    <tr>\n",
       "      <th>2020-03-15</th>\n",
       "      <td>1.0</td>\n",
       "      <td>0.0</td>\n",
       "    </tr>\n",
       "    <tr>\n",
       "      <th>2020-03-22</th>\n",
       "      <td>18.0</td>\n",
       "      <td>0.0</td>\n",
       "    </tr>\n",
       "    <tr>\n",
       "      <th>2020-03-29</th>\n",
       "      <td>82.0</td>\n",
       "      <td>3.0</td>\n",
       "    </tr>\n",
       "  </tbody>\n",
       "</table>\n",
       "</div>"
      ],
      "text/plain": [
       "            conf_diff_median  deaths_diff_median\n",
       "dates                                           \n",
       "2020-01-26               0.0                 0.0\n",
       "2020-02-02               0.0                 0.0\n",
       "2020-02-09               0.0                 0.0\n",
       "2020-02-16               0.0                 0.0\n",
       "2020-02-23               0.0                 0.0\n",
       "2020-03-01               0.0                 0.0\n",
       "2020-03-08               0.0                 0.0\n",
       "2020-03-15               1.0                 0.0\n",
       "2020-03-22              18.0                 0.0\n",
       "2020-03-29              82.0                 3.0"
      ]
     },
     "execution_count": 661,
     "metadata": {},
     "output_type": "execute_result"
    }
   ],
   "source": [
    "# Median\n",
    "median_va = VA_New_Cases_agg.groupby(pd.Grouper(key='dates', freq='W'))['conf_diff','deaths_diff'].median().add_suffix('_median')\n",
    "median_va = median_va.round()\n",
    "median_va.head(10)"
   ]
  },
  {
   "cell_type": "code",
   "execution_count": 662,
   "metadata": {},
   "outputs": [
    {
     "data": {
      "text/html": [
       "<div>\n",
       "<style scoped>\n",
       "    .dataframe tbody tr th:only-of-type {\n",
       "        vertical-align: middle;\n",
       "    }\n",
       "\n",
       "    .dataframe tbody tr th {\n",
       "        vertical-align: top;\n",
       "    }\n",
       "\n",
       "    .dataframe thead th {\n",
       "        text-align: right;\n",
       "    }\n",
       "</style>\n",
       "<table border=\"1\" class=\"dataframe\">\n",
       "  <thead>\n",
       "    <tr style=\"text-align: right;\">\n",
       "      <th></th>\n",
       "      <th>conf_diff_mode</th>\n",
       "      <th>deaths_diff_mode</th>\n",
       "    </tr>\n",
       "    <tr>\n",
       "      <th>dates</th>\n",
       "      <th></th>\n",
       "      <th></th>\n",
       "    </tr>\n",
       "  </thead>\n",
       "  <tbody>\n",
       "    <tr>\n",
       "      <th>2020-01-26</th>\n",
       "      <td>0.0</td>\n",
       "      <td>0.0</td>\n",
       "    </tr>\n",
       "    <tr>\n",
       "      <th>2020-02-02</th>\n",
       "      <td>0.0</td>\n",
       "      <td>0.0</td>\n",
       "    </tr>\n",
       "    <tr>\n",
       "      <th>2020-02-09</th>\n",
       "      <td>0.0</td>\n",
       "      <td>0.0</td>\n",
       "    </tr>\n",
       "    <tr>\n",
       "      <th>2020-02-16</th>\n",
       "      <td>0.0</td>\n",
       "      <td>0.0</td>\n",
       "    </tr>\n",
       "    <tr>\n",
       "      <th>2020-02-23</th>\n",
       "      <td>0.0</td>\n",
       "      <td>0.0</td>\n",
       "    </tr>\n",
       "    <tr>\n",
       "      <th>2020-03-01</th>\n",
       "      <td>0.0</td>\n",
       "      <td>0.0</td>\n",
       "    </tr>\n",
       "    <tr>\n",
       "      <th>2020-03-08</th>\n",
       "      <td>0.0</td>\n",
       "      <td>0.0</td>\n",
       "    </tr>\n",
       "    <tr>\n",
       "      <th>2020-03-15</th>\n",
       "      <td>0.0</td>\n",
       "      <td>0.0</td>\n",
       "    </tr>\n",
       "    <tr>\n",
       "      <th>2020-03-22</th>\n",
       "      <td>5.0</td>\n",
       "      <td>0.0</td>\n",
       "    </tr>\n",
       "    <tr>\n",
       "      <th>2020-03-29</th>\n",
       "      <td>26.0</td>\n",
       "      <td>3.0</td>\n",
       "    </tr>\n",
       "    <tr>\n",
       "      <th>2020-04-05</th>\n",
       "      <td>114.0</td>\n",
       "      <td>2.0</td>\n",
       "    </tr>\n",
       "    <tr>\n",
       "      <th>2020-04-12</th>\n",
       "      <td>155.0</td>\n",
       "      <td>8.0</td>\n",
       "    </tr>\n",
       "  </tbody>\n",
       "</table>\n",
       "</div>"
      ],
      "text/plain": [
       "0           conf_diff_mode  deaths_diff_mode\n",
       "dates                                       \n",
       "2020-01-26             0.0               0.0\n",
       "2020-02-02             0.0               0.0\n",
       "2020-02-09             0.0               0.0\n",
       "2020-02-16             0.0               0.0\n",
       "2020-02-23             0.0               0.0\n",
       "2020-03-01             0.0               0.0\n",
       "2020-03-08             0.0               0.0\n",
       "2020-03-15             0.0               0.0\n",
       "2020-03-22             5.0               0.0\n",
       "2020-03-29            26.0               3.0\n",
       "2020-04-05           114.0               2.0\n",
       "2020-04-12           155.0               8.0"
      ]
     },
     "execution_count": 662,
     "metadata": {},
     "output_type": "execute_result"
    }
   ],
   "source": [
    "# Mode\n",
    "mode_va = VA_New_Cases_agg.groupby(pd.Grouper(key='dates', freq='W'))['conf_diff','deaths_diff'].apply(lambda x:x.mode().iloc[0]).add_suffix('_mode')\n",
    "mode_va.head(12)\n"
   ]
  },
  {
   "cell_type": "markdown",
   "metadata": {},
   "source": [
    "## Merge the weekly mean, median and mode in a single df"
   ]
  },
  {
   "cell_type": "code",
   "execution_count": 663,
   "metadata": {},
   "outputs": [
    {
     "data": {
      "text/html": [
       "<div>\n",
       "<style scoped>\n",
       "    .dataframe tbody tr th:only-of-type {\n",
       "        vertical-align: middle;\n",
       "    }\n",
       "\n",
       "    .dataframe tbody tr th {\n",
       "        vertical-align: top;\n",
       "    }\n",
       "\n",
       "    .dataframe thead th {\n",
       "        text-align: right;\n",
       "    }\n",
       "</style>\n",
       "<table border=\"1\" class=\"dataframe\">\n",
       "  <thead>\n",
       "    <tr style=\"text-align: right;\">\n",
       "      <th></th>\n",
       "      <th>conf_diff_mean</th>\n",
       "      <th>deaths_diff_mean</th>\n",
       "      <th>conf_diff_median</th>\n",
       "      <th>deaths_diff_median</th>\n",
       "      <th>conf_diff_mode</th>\n",
       "      <th>deaths_diff_mode</th>\n",
       "    </tr>\n",
       "    <tr>\n",
       "      <th>dates</th>\n",
       "      <th></th>\n",
       "      <th></th>\n",
       "      <th></th>\n",
       "      <th></th>\n",
       "      <th></th>\n",
       "      <th></th>\n",
       "    </tr>\n",
       "  </thead>\n",
       "  <tbody>\n",
       "    <tr>\n",
       "      <th>2020-01-26</th>\n",
       "      <td>0.0</td>\n",
       "      <td>0.0</td>\n",
       "      <td>0.0</td>\n",
       "      <td>0.0</td>\n",
       "      <td>0.0</td>\n",
       "      <td>0.0</td>\n",
       "    </tr>\n",
       "    <tr>\n",
       "      <th>2020-02-02</th>\n",
       "      <td>0.0</td>\n",
       "      <td>0.0</td>\n",
       "      <td>0.0</td>\n",
       "      <td>0.0</td>\n",
       "      <td>0.0</td>\n",
       "      <td>0.0</td>\n",
       "    </tr>\n",
       "    <tr>\n",
       "      <th>2020-02-09</th>\n",
       "      <td>0.0</td>\n",
       "      <td>0.0</td>\n",
       "      <td>0.0</td>\n",
       "      <td>0.0</td>\n",
       "      <td>0.0</td>\n",
       "      <td>0.0</td>\n",
       "    </tr>\n",
       "    <tr>\n",
       "      <th>2020-02-16</th>\n",
       "      <td>0.0</td>\n",
       "      <td>0.0</td>\n",
       "      <td>0.0</td>\n",
       "      <td>0.0</td>\n",
       "      <td>0.0</td>\n",
       "      <td>0.0</td>\n",
       "    </tr>\n",
       "    <tr>\n",
       "      <th>2020-02-23</th>\n",
       "      <td>0.0</td>\n",
       "      <td>0.0</td>\n",
       "      <td>0.0</td>\n",
       "      <td>0.0</td>\n",
       "      <td>0.0</td>\n",
       "      <td>0.0</td>\n",
       "    </tr>\n",
       "    <tr>\n",
       "      <th>2020-03-01</th>\n",
       "      <td>0.0</td>\n",
       "      <td>0.0</td>\n",
       "      <td>0.0</td>\n",
       "      <td>0.0</td>\n",
       "      <td>0.0</td>\n",
       "      <td>0.0</td>\n",
       "    </tr>\n",
       "    <tr>\n",
       "      <th>2020-03-08</th>\n",
       "      <td>0.0</td>\n",
       "      <td>0.0</td>\n",
       "      <td>0.0</td>\n",
       "      <td>0.0</td>\n",
       "      <td>0.0</td>\n",
       "      <td>0.0</td>\n",
       "    </tr>\n",
       "    <tr>\n",
       "      <th>2020-03-15</th>\n",
       "      <td>4.0</td>\n",
       "      <td>0.0</td>\n",
       "      <td>1.0</td>\n",
       "      <td>0.0</td>\n",
       "      <td>0.0</td>\n",
       "      <td>0.0</td>\n",
       "    </tr>\n",
       "    <tr>\n",
       "      <th>2020-03-22</th>\n",
       "      <td>21.0</td>\n",
       "      <td>0.0</td>\n",
       "      <td>18.0</td>\n",
       "      <td>0.0</td>\n",
       "      <td>5.0</td>\n",
       "      <td>0.0</td>\n",
       "    </tr>\n",
       "    <tr>\n",
       "      <th>2020-03-29</th>\n",
       "      <td>78.0</td>\n",
       "      <td>3.0</td>\n",
       "      <td>82.0</td>\n",
       "      <td>3.0</td>\n",
       "      <td>26.0</td>\n",
       "      <td>3.0</td>\n",
       "    </tr>\n",
       "  </tbody>\n",
       "</table>\n",
       "</div>"
      ],
      "text/plain": [
       "            conf_diff_mean  deaths_diff_mean  conf_diff_median  \\\n",
       "dates                                                            \n",
       "2020-01-26             0.0               0.0               0.0   \n",
       "2020-02-02             0.0               0.0               0.0   \n",
       "2020-02-09             0.0               0.0               0.0   \n",
       "2020-02-16             0.0               0.0               0.0   \n",
       "2020-02-23             0.0               0.0               0.0   \n",
       "2020-03-01             0.0               0.0               0.0   \n",
       "2020-03-08             0.0               0.0               0.0   \n",
       "2020-03-15             4.0               0.0               1.0   \n",
       "2020-03-22            21.0               0.0              18.0   \n",
       "2020-03-29            78.0               3.0              82.0   \n",
       "\n",
       "            deaths_diff_median  conf_diff_mode  deaths_diff_mode  \n",
       "dates                                                             \n",
       "2020-01-26                 0.0             0.0               0.0  \n",
       "2020-02-02                 0.0             0.0               0.0  \n",
       "2020-02-09                 0.0             0.0               0.0  \n",
       "2020-02-16                 0.0             0.0               0.0  \n",
       "2020-02-23                 0.0             0.0               0.0  \n",
       "2020-03-01                 0.0             0.0               0.0  \n",
       "2020-03-08                 0.0             0.0               0.0  \n",
       "2020-03-15                 0.0             0.0               0.0  \n",
       "2020-03-22                 0.0             5.0               0.0  \n",
       "2020-03-29                 3.0            26.0               3.0  "
      ]
     },
     "execution_count": 663,
     "metadata": {},
     "output_type": "execute_result"
    }
   ],
   "source": [
    "# merge the mean, median and mode in a single df\n",
    "merge_va_all = mean_va.merge(median_va.merge(mode_va,on='dates'),on='dates')\n",
    "merge_va_all.head(10)"
   ]
  },
  {
   "cell_type": "markdown",
   "metadata": {},
   "source": [
    "## Calculated mean/median/mode for the whole state - Virginia (normalized by population per 1,000,000)"
   ]
  },
  {
   "cell_type": "code",
   "execution_count": 664,
   "metadata": {},
   "outputs": [
    {
     "name": "stdout",
     "output_type": "stream",
     "text": [
      "Virginia Overall, total population - 6802317  \n",
      "\n",
      "Mean of new cases (per 1,000,000 population):\n",
      "---------------------\n",
      " conf_diff      63.0\n",
      "deaths_diff     1.0\n",
      "dtype: float64\n",
      "\n",
      "Median of new cases(per 1,000,000 population):\n",
      "---------------------\n",
      " conf_diff      69.0\n",
      "deaths_diff     1.0\n",
      "dtype: float64\n",
      "\n",
      "Mode of new cases:\n",
      "---------------------\n",
      " dates          2020-01-22 00:00:00\n",
      "conf_diff                        0\n",
      "deaths_diff                      0\n",
      "Name: 0, dtype: object\n"
     ]
    }
   ],
   "source": [
    "# Consolidate mean/median/mode for the whole state - Virginia\n",
    "mean_va_all = ((VA_New_Cases_agg.mean()/population_VA)*1000000).round()\n",
    "median_va_all = ((VA_New_Cases_agg.median()/population_VA)*1000000).round()\n",
    "mode_va_all = VA_New_Cases_agg.mode().iloc[0]\n",
    "print('Virginia Overall, total population -',population_VA,' \\n')\n",
    "print('Mean of new cases (per 1,000,000 population):\\n---------------------\\n',mean_va_all)\n",
    "print('\\nMedian of new cases(per 1,000,000 population):\\n---------------------\\n',median_va_all)\n",
    "print('\\nMode of new cases:\\n---------------------\\n',mode_va_all)\n",
    "\n"
   ]
  },
  {
   "cell_type": "markdown",
   "metadata": {},
   "source": [
    "## -Compare the data against other states.\n",
    "   - States like \"CT\", \"MN\",\"KY\",\"NM\" and \"MI\" have similar confirmed cases as \"Virginia\". States like \"AR\", \"CO\", \"WV\", \"ID\", \"KS\" have similar death rates as \"Virginia\". \n",
    "   - VA is not one of the states with high cases/deaths. \"LA\", \"FL\" and \"MS\" are the states with the highest rate of confirmed cases whereas \"NJ\", \"NY\" and \"MA\" are the states with highest deaths. \n",
    "   - \"NH\", \"ME\" and \"VT\" are the states with the least confirmed case where \"NH\" being the exception has relatively higher death rate per 1,000,000 population. "
   ]
  },
  {
   "cell_type": "code",
   "execution_count": 665,
   "metadata": {
    "scrolled": true
   },
   "outputs": [
    {
     "name": "stdout",
     "output_type": "stream",
     "text": [
      "\n",
      "\n",
      "Mean/Median/Mode for new confirmed cases and death rates for each state in the whole US (per 1,000,000).\n",
      "\n",
      "States with highest confirmed cases: \n",
      "\n",
      "   State  conf_mean  conf_median  conf_mode\n",
      "18    LA      144.0         89.0        0.0\n",
      "9     FL      131.0         47.0        0.0\n",
      "25    MS      128.0         86.0        0.0\n",
      "1     AL      121.0         65.0        0.0\n",
      "3     AZ      121.0         43.0        0.0\n",
      "\n",
      "States with highest deaths: \n",
      "\n",
      "   State  deaths_mean  deaths_median  deaths_mode\n",
      "31    NJ          8.0            1.0          0.0\n",
      "34    NY          7.0            1.0          0.0\n",
      "19    MA          6.0            2.0          0.0\n",
      "18    LA          5.0            4.0          0.0\n",
      "6     CT          5.0            1.0          0.0\n"
     ]
    },
    {
     "data": {
      "text/html": [
       "<div>\n",
       "<style scoped>\n",
       "    .dataframe tbody tr th:only-of-type {\n",
       "        vertical-align: middle;\n",
       "    }\n",
       "\n",
       "    .dataframe tbody tr th {\n",
       "        vertical-align: top;\n",
       "    }\n",
       "\n",
       "    .dataframe thead th {\n",
       "        text-align: right;\n",
       "    }\n",
       "</style>\n",
       "<table border=\"1\" class=\"dataframe\">\n",
       "  <thead>\n",
       "    <tr style=\"text-align: right;\">\n",
       "      <th></th>\n",
       "      <th>State</th>\n",
       "      <th>conf_mean</th>\n",
       "      <th>conf_median</th>\n",
       "      <th>conf_mode</th>\n",
       "      <th>deaths_mean</th>\n",
       "      <th>deaths_median</th>\n",
       "      <th>deaths_mode</th>\n",
       "    </tr>\n",
       "  </thead>\n",
       "  <tbody>\n",
       "    <tr>\n",
       "      <th>18</th>\n",
       "      <td>LA</td>\n",
       "      <td>144.0</td>\n",
       "      <td>89.0</td>\n",
       "      <td>0.0</td>\n",
       "      <td>5.0</td>\n",
       "      <td>4.0</td>\n",
       "      <td>0.0</td>\n",
       "    </tr>\n",
       "    <tr>\n",
       "      <th>9</th>\n",
       "      <td>FL</td>\n",
       "      <td>131.0</td>\n",
       "      <td>47.0</td>\n",
       "      <td>0.0</td>\n",
       "      <td>3.0</td>\n",
       "      <td>2.0</td>\n",
       "      <td>0.0</td>\n",
       "    </tr>\n",
       "    <tr>\n",
       "      <th>25</th>\n",
       "      <td>MS</td>\n",
       "      <td>128.0</td>\n",
       "      <td>86.0</td>\n",
       "      <td>0.0</td>\n",
       "      <td>4.0</td>\n",
       "      <td>3.0</td>\n",
       "      <td>0.0</td>\n",
       "    </tr>\n",
       "    <tr>\n",
       "      <th>1</th>\n",
       "      <td>AL</td>\n",
       "      <td>121.0</td>\n",
       "      <td>65.0</td>\n",
       "      <td>0.0</td>\n",
       "      <td>2.0</td>\n",
       "      <td>1.0</td>\n",
       "      <td>0.0</td>\n",
       "    </tr>\n",
       "    <tr>\n",
       "      <th>3</th>\n",
       "      <td>AZ</td>\n",
       "      <td>121.0</td>\n",
       "      <td>43.0</td>\n",
       "      <td>0.0</td>\n",
       "      <td>3.0</td>\n",
       "      <td>1.0</td>\n",
       "      <td>0.0</td>\n",
       "    </tr>\n",
       "    <tr>\n",
       "      <th>10</th>\n",
       "      <td>GA</td>\n",
       "      <td>118.0</td>\n",
       "      <td>76.0</td>\n",
       "      <td>0.0</td>\n",
       "      <td>3.0</td>\n",
       "      <td>2.0</td>\n",
       "      <td>0.0</td>\n",
       "    </tr>\n",
       "    <tr>\n",
       "      <th>40</th>\n",
       "      <td>SC</td>\n",
       "      <td>109.0</td>\n",
       "      <td>44.0</td>\n",
       "      <td>0.0</td>\n",
       "      <td>3.0</td>\n",
       "      <td>1.0</td>\n",
       "      <td>0.0</td>\n",
       "    </tr>\n",
       "    <tr>\n",
       "      <th>42</th>\n",
       "      <td>TN</td>\n",
       "      <td>108.0</td>\n",
       "      <td>59.0</td>\n",
       "      <td>0.0</td>\n",
       "      <td>1.0</td>\n",
       "      <td>1.0</td>\n",
       "      <td>0.0</td>\n",
       "    </tr>\n",
       "    <tr>\n",
       "      <th>33</th>\n",
       "      <td>NV</td>\n",
       "      <td>101.0</td>\n",
       "      <td>46.0</td>\n",
       "      <td>0.0</td>\n",
       "      <td>2.0</td>\n",
       "      <td>1.0</td>\n",
       "      <td>0.0</td>\n",
       "    </tr>\n",
       "    <tr>\n",
       "      <th>12</th>\n",
       "      <td>IA</td>\n",
       "      <td>101.0</td>\n",
       "      <td>91.0</td>\n",
       "      <td>0.0</td>\n",
       "      <td>2.0</td>\n",
       "      <td>1.0</td>\n",
       "      <td>0.0</td>\n",
       "    </tr>\n",
       "    <tr>\n",
       "      <th>2</th>\n",
       "      <td>AR</td>\n",
       "      <td>100.0</td>\n",
       "      <td>54.0</td>\n",
       "      <td>0.0</td>\n",
       "      <td>1.0</td>\n",
       "      <td>1.0</td>\n",
       "      <td>0.0</td>\n",
       "    </tr>\n",
       "    <tr>\n",
       "      <th>43</th>\n",
       "      <td>TX</td>\n",
       "      <td>99.0</td>\n",
       "      <td>42.0</td>\n",
       "      <td>0.0</td>\n",
       "      <td>2.0</td>\n",
       "      <td>1.0</td>\n",
       "      <td>0.0</td>\n",
       "    </tr>\n",
       "    <tr>\n",
       "      <th>34</th>\n",
       "      <td>NY</td>\n",
       "      <td>97.0</td>\n",
       "      <td>37.0</td>\n",
       "      <td>0.0</td>\n",
       "      <td>7.0</td>\n",
       "      <td>1.0</td>\n",
       "      <td>0.0</td>\n",
       "    </tr>\n",
       "    <tr>\n",
       "      <th>31</th>\n",
       "      <td>NJ</td>\n",
       "      <td>94.0</td>\n",
       "      <td>38.0</td>\n",
       "      <td>0.0</td>\n",
       "      <td>8.0</td>\n",
       "      <td>1.0</td>\n",
       "      <td>0.0</td>\n",
       "    </tr>\n",
       "    <tr>\n",
       "      <th>28</th>\n",
       "      <td>ND</td>\n",
       "      <td>89.0</td>\n",
       "      <td>47.0</td>\n",
       "      <td>0.0</td>\n",
       "      <td>1.0</td>\n",
       "      <td>0.0</td>\n",
       "      <td>0.0</td>\n",
       "    </tr>\n",
       "    <tr>\n",
       "      <th>14</th>\n",
       "      <td>IL</td>\n",
       "      <td>88.0</td>\n",
       "      <td>91.0</td>\n",
       "      <td>0.0</td>\n",
       "      <td>3.0</td>\n",
       "      <td>2.0</td>\n",
       "      <td>0.0</td>\n",
       "    </tr>\n",
       "    <tr>\n",
       "      <th>7</th>\n",
       "      <td>DC</td>\n",
       "      <td>88.0</td>\n",
       "      <td>74.0</td>\n",
       "      <td>0.0</td>\n",
       "      <td>4.0</td>\n",
       "      <td>1.0</td>\n",
       "      <td>0.0</td>\n",
       "    </tr>\n",
       "    <tr>\n",
       "      <th>39</th>\n",
       "      <td>RI</td>\n",
       "      <td>87.0</td>\n",
       "      <td>1.0</td>\n",
       "      <td>0.0</td>\n",
       "      <td>4.0</td>\n",
       "      <td>0.0</td>\n",
       "      <td>0.0</td>\n",
       "    </tr>\n",
       "    <tr>\n",
       "      <th>13</th>\n",
       "      <td>ID</td>\n",
       "      <td>85.0</td>\n",
       "      <td>18.0</td>\n",
       "      <td>0.0</td>\n",
       "      <td>1.0</td>\n",
       "      <td>0.0</td>\n",
       "      <td>0.0</td>\n",
       "    </tr>\n",
       "    <tr>\n",
       "      <th>29</th>\n",
       "      <td>NE</td>\n",
       "      <td>85.0</td>\n",
       "      <td>74.0</td>\n",
       "      <td>0.0</td>\n",
       "      <td>1.0</td>\n",
       "      <td>0.0</td>\n",
       "      <td>0.0</td>\n",
       "    </tr>\n",
       "    <tr>\n",
       "      <th>8</th>\n",
       "      <td>DE</td>\n",
       "      <td>83.0</td>\n",
       "      <td>68.0</td>\n",
       "      <td>0.0</td>\n",
       "      <td>3.0</td>\n",
       "      <td>0.0</td>\n",
       "      <td>0.0</td>\n",
       "    </tr>\n",
       "    <tr>\n",
       "      <th>20</th>\n",
       "      <td>MD</td>\n",
       "      <td>82.0</td>\n",
       "      <td>85.0</td>\n",
       "      <td>0.0</td>\n",
       "      <td>3.0</td>\n",
       "      <td>1.0</td>\n",
       "      <td>0.0</td>\n",
       "    </tr>\n",
       "    <tr>\n",
       "      <th>4</th>\n",
       "      <td>CA</td>\n",
       "      <td>82.0</td>\n",
       "      <td>54.0</td>\n",
       "      <td>0.0</td>\n",
       "      <td>2.0</td>\n",
       "      <td>1.0</td>\n",
       "      <td>0.0</td>\n",
       "    </tr>\n",
       "    <tr>\n",
       "      <th>41</th>\n",
       "      <td>SD</td>\n",
       "      <td>81.0</td>\n",
       "      <td>64.0</td>\n",
       "      <td>0.0</td>\n",
       "      <td>1.0</td>\n",
       "      <td>0.0</td>\n",
       "      <td>0.0</td>\n",
       "    </tr>\n",
       "    <tr>\n",
       "      <th>19</th>\n",
       "      <td>MA</td>\n",
       "      <td>81.0</td>\n",
       "      <td>42.0</td>\n",
       "      <td>0.0</td>\n",
       "      <td>6.0</td>\n",
       "      <td>2.0</td>\n",
       "      <td>0.0</td>\n",
       "    </tr>\n",
       "    <tr>\n",
       "      <th>44</th>\n",
       "      <td>UT</td>\n",
       "      <td>78.0</td>\n",
       "      <td>52.0</td>\n",
       "      <td>0.0</td>\n",
       "      <td>1.0</td>\n",
       "      <td>0.0</td>\n",
       "      <td>0.0</td>\n",
       "    </tr>\n",
       "    <tr>\n",
       "      <th>36</th>\n",
       "      <td>OK</td>\n",
       "      <td>76.0</td>\n",
       "      <td>30.0</td>\n",
       "      <td>0.0</td>\n",
       "      <td>1.0</td>\n",
       "      <td>1.0</td>\n",
       "      <td>0.0</td>\n",
       "    </tr>\n",
       "    <tr>\n",
       "      <th>27</th>\n",
       "      <td>NC</td>\n",
       "      <td>76.0</td>\n",
       "      <td>56.0</td>\n",
       "      <td>0.0</td>\n",
       "      <td>1.0</td>\n",
       "      <td>1.0</td>\n",
       "      <td>0.0</td>\n",
       "    </tr>\n",
       "    <tr>\n",
       "      <th>16</th>\n",
       "      <td>KS</td>\n",
       "      <td>73.0</td>\n",
       "      <td>20.0</td>\n",
       "      <td>0.0</td>\n",
       "      <td>1.0</td>\n",
       "      <td>0.0</td>\n",
       "      <td>0.0</td>\n",
       "    </tr>\n",
       "    <tr>\n",
       "      <th>24</th>\n",
       "      <td>MO</td>\n",
       "      <td>72.0</td>\n",
       "      <td>33.0</td>\n",
       "      <td>0.0</td>\n",
       "      <td>1.0</td>\n",
       "      <td>1.0</td>\n",
       "      <td>0.0</td>\n",
       "    </tr>\n",
       "    <tr>\n",
       "      <th>48</th>\n",
       "      <td>WI</td>\n",
       "      <td>70.0</td>\n",
       "      <td>49.0</td>\n",
       "      <td>0.0</td>\n",
       "      <td>1.0</td>\n",
       "      <td>1.0</td>\n",
       "      <td>0.0</td>\n",
       "    </tr>\n",
       "    <tr>\n",
       "      <th>15</th>\n",
       "      <td>IN</td>\n",
       "      <td>69.0</td>\n",
       "      <td>69.0</td>\n",
       "      <td>0.0</td>\n",
       "      <td>2.0</td>\n",
       "      <td>2.0</td>\n",
       "      <td>0.0</td>\n",
       "    </tr>\n",
       "    <tr>\n",
       "      <th>6</th>\n",
       "      <td>CT</td>\n",
       "      <td>65.0</td>\n",
       "      <td>28.0</td>\n",
       "      <td>0.0</td>\n",
       "      <td>5.0</td>\n",
       "      <td>1.0</td>\n",
       "      <td>0.0</td>\n",
       "    </tr>\n",
       "    <tr>\n",
       "      <th>23</th>\n",
       "      <td>MN</td>\n",
       "      <td>64.0</td>\n",
       "      <td>66.0</td>\n",
       "      <td>0.0</td>\n",
       "      <td>1.0</td>\n",
       "      <td>1.0</td>\n",
       "      <td>0.0</td>\n",
       "    </tr>\n",
       "    <tr>\n",
       "      <th>45</th>\n",
       "      <td>VA</td>\n",
       "      <td>63.0</td>\n",
       "      <td>69.0</td>\n",
       "      <td>0.0</td>\n",
       "      <td>1.0</td>\n",
       "      <td>1.0</td>\n",
       "      <td>0.0</td>\n",
       "    </tr>\n",
       "    <tr>\n",
       "      <th>17</th>\n",
       "      <td>KY</td>\n",
       "      <td>55.0</td>\n",
       "      <td>37.0</td>\n",
       "      <td>0.0</td>\n",
       "      <td>1.0</td>\n",
       "      <td>1.0</td>\n",
       "      <td>0.0</td>\n",
       "    </tr>\n",
       "    <tr>\n",
       "      <th>32</th>\n",
       "      <td>NM</td>\n",
       "      <td>54.0</td>\n",
       "      <td>51.0</td>\n",
       "      <td>0.0</td>\n",
       "      <td>2.0</td>\n",
       "      <td>1.0</td>\n",
       "      <td>0.0</td>\n",
       "    </tr>\n",
       "    <tr>\n",
       "      <th>22</th>\n",
       "      <td>MI</td>\n",
       "      <td>53.0</td>\n",
       "      <td>49.0</td>\n",
       "      <td>0.0</td>\n",
       "      <td>3.0</td>\n",
       "      <td>1.0</td>\n",
       "      <td>0.0</td>\n",
       "    </tr>\n",
       "    <tr>\n",
       "      <th>35</th>\n",
       "      <td>OH</td>\n",
       "      <td>50.0</td>\n",
       "      <td>43.0</td>\n",
       "      <td>0.0</td>\n",
       "      <td>2.0</td>\n",
       "      <td>1.0</td>\n",
       "      <td>0.0</td>\n",
       "    </tr>\n",
       "    <tr>\n",
       "      <th>38</th>\n",
       "      <td>PA</td>\n",
       "      <td>48.0</td>\n",
       "      <td>49.0</td>\n",
       "      <td>0.0</td>\n",
       "      <td>3.0</td>\n",
       "      <td>1.0</td>\n",
       "      <td>0.0</td>\n",
       "    </tr>\n",
       "    <tr>\n",
       "      <th>5</th>\n",
       "      <td>CO</td>\n",
       "      <td>46.0</td>\n",
       "      <td>47.0</td>\n",
       "      <td>0.0</td>\n",
       "      <td>1.0</td>\n",
       "      <td>1.0</td>\n",
       "      <td>0.0</td>\n",
       "    </tr>\n",
       "    <tr>\n",
       "      <th>47</th>\n",
       "      <td>WA</td>\n",
       "      <td>45.0</td>\n",
       "      <td>39.0</td>\n",
       "      <td>0.0</td>\n",
       "      <td>1.0</td>\n",
       "      <td>1.0</td>\n",
       "      <td>0.0</td>\n",
       "    </tr>\n",
       "    <tr>\n",
       "      <th>0</th>\n",
       "      <td>AK</td>\n",
       "      <td>37.0</td>\n",
       "      <td>12.0</td>\n",
       "      <td>0.0</td>\n",
       "      <td>0.0</td>\n",
       "      <td>0.0</td>\n",
       "      <td>0.0</td>\n",
       "    </tr>\n",
       "    <tr>\n",
       "      <th>26</th>\n",
       "      <td>MT</td>\n",
       "      <td>36.0</td>\n",
       "      <td>7.0</td>\n",
       "      <td>0.0</td>\n",
       "      <td>1.0</td>\n",
       "      <td>0.0</td>\n",
       "      <td>0.0</td>\n",
       "    </tr>\n",
       "    <tr>\n",
       "      <th>11</th>\n",
       "      <td>HI</td>\n",
       "      <td>32.0</td>\n",
       "      <td>5.0</td>\n",
       "      <td>0.0</td>\n",
       "      <td>0.0</td>\n",
       "      <td>0.0</td>\n",
       "      <td>0.0</td>\n",
       "    </tr>\n",
       "    <tr>\n",
       "      <th>50</th>\n",
       "      <td>WY</td>\n",
       "      <td>32.0</td>\n",
       "      <td>19.0</td>\n",
       "      <td>0.0</td>\n",
       "      <td>0.0</td>\n",
       "      <td>0.0</td>\n",
       "      <td>0.0</td>\n",
       "    </tr>\n",
       "    <tr>\n",
       "      <th>49</th>\n",
       "      <td>WV</td>\n",
       "      <td>31.0</td>\n",
       "      <td>15.0</td>\n",
       "      <td>0.0</td>\n",
       "      <td>1.0</td>\n",
       "      <td>0.0</td>\n",
       "      <td>0.0</td>\n",
       "    </tr>\n",
       "    <tr>\n",
       "      <th>37</th>\n",
       "      <td>OR</td>\n",
       "      <td>30.0</td>\n",
       "      <td>17.0</td>\n",
       "      <td>0.0</td>\n",
       "      <td>1.0</td>\n",
       "      <td>0.0</td>\n",
       "      <td>0.0</td>\n",
       "    </tr>\n",
       "    <tr>\n",
       "      <th>30</th>\n",
       "      <td>NH</td>\n",
       "      <td>24.0</td>\n",
       "      <td>18.0</td>\n",
       "      <td>0.0</td>\n",
       "      <td>1.0</td>\n",
       "      <td>0.0</td>\n",
       "      <td>0.0</td>\n",
       "    </tr>\n",
       "    <tr>\n",
       "      <th>21</th>\n",
       "      <td>ME</td>\n",
       "      <td>16.0</td>\n",
       "      <td>14.0</td>\n",
       "      <td>0.0</td>\n",
       "      <td>0.0</td>\n",
       "      <td>0.0</td>\n",
       "      <td>0.0</td>\n",
       "    </tr>\n",
       "    <tr>\n",
       "      <th>46</th>\n",
       "      <td>VT</td>\n",
       "      <td>12.0</td>\n",
       "      <td>6.0</td>\n",
       "      <td>0.0</td>\n",
       "      <td>0.0</td>\n",
       "      <td>0.0</td>\n",
       "      <td>0.0</td>\n",
       "    </tr>\n",
       "  </tbody>\n",
       "</table>\n",
       "</div>"
      ],
      "text/plain": [
       "   State  conf_mean  conf_median  conf_mode  deaths_mean  deaths_median  \\\n",
       "18    LA      144.0         89.0        0.0          5.0            4.0   \n",
       "9     FL      131.0         47.0        0.0          3.0            2.0   \n",
       "25    MS      128.0         86.0        0.0          4.0            3.0   \n",
       "1     AL      121.0         65.0        0.0          2.0            1.0   \n",
       "3     AZ      121.0         43.0        0.0          3.0            1.0   \n",
       "10    GA      118.0         76.0        0.0          3.0            2.0   \n",
       "40    SC      109.0         44.0        0.0          3.0            1.0   \n",
       "42    TN      108.0         59.0        0.0          1.0            1.0   \n",
       "33    NV      101.0         46.0        0.0          2.0            1.0   \n",
       "12    IA      101.0         91.0        0.0          2.0            1.0   \n",
       "2     AR      100.0         54.0        0.0          1.0            1.0   \n",
       "43    TX       99.0         42.0        0.0          2.0            1.0   \n",
       "34    NY       97.0         37.0        0.0          7.0            1.0   \n",
       "31    NJ       94.0         38.0        0.0          8.0            1.0   \n",
       "28    ND       89.0         47.0        0.0          1.0            0.0   \n",
       "14    IL       88.0         91.0        0.0          3.0            2.0   \n",
       "7     DC       88.0         74.0        0.0          4.0            1.0   \n",
       "39    RI       87.0          1.0        0.0          4.0            0.0   \n",
       "13    ID       85.0         18.0        0.0          1.0            0.0   \n",
       "29    NE       85.0         74.0        0.0          1.0            0.0   \n",
       "8     DE       83.0         68.0        0.0          3.0            0.0   \n",
       "20    MD       82.0         85.0        0.0          3.0            1.0   \n",
       "4     CA       82.0         54.0        0.0          2.0            1.0   \n",
       "41    SD       81.0         64.0        0.0          1.0            0.0   \n",
       "19    MA       81.0         42.0        0.0          6.0            2.0   \n",
       "44    UT       78.0         52.0        0.0          1.0            0.0   \n",
       "36    OK       76.0         30.0        0.0          1.0            1.0   \n",
       "27    NC       76.0         56.0        0.0          1.0            1.0   \n",
       "16    KS       73.0         20.0        0.0          1.0            0.0   \n",
       "24    MO       72.0         33.0        0.0          1.0            1.0   \n",
       "48    WI       70.0         49.0        0.0          1.0            1.0   \n",
       "15    IN       69.0         69.0        0.0          2.0            2.0   \n",
       "6     CT       65.0         28.0        0.0          5.0            1.0   \n",
       "23    MN       64.0         66.0        0.0          1.0            1.0   \n",
       "45    VA       63.0         69.0        0.0          1.0            1.0   \n",
       "17    KY       55.0         37.0        0.0          1.0            1.0   \n",
       "32    NM       54.0         51.0        0.0          2.0            1.0   \n",
       "22    MI       53.0         49.0        0.0          3.0            1.0   \n",
       "35    OH       50.0         43.0        0.0          2.0            1.0   \n",
       "38    PA       48.0         49.0        0.0          3.0            1.0   \n",
       "5     CO       46.0         47.0        0.0          1.0            1.0   \n",
       "47    WA       45.0         39.0        0.0          1.0            1.0   \n",
       "0     AK       37.0         12.0        0.0          0.0            0.0   \n",
       "26    MT       36.0          7.0        0.0          1.0            0.0   \n",
       "11    HI       32.0          5.0        0.0          0.0            0.0   \n",
       "50    WY       32.0         19.0        0.0          0.0            0.0   \n",
       "49    WV       31.0         15.0        0.0          1.0            0.0   \n",
       "37    OR       30.0         17.0        0.0          1.0            0.0   \n",
       "30    NH       24.0         18.0        0.0          1.0            0.0   \n",
       "21    ME       16.0         14.0        0.0          0.0            0.0   \n",
       "46    VT       12.0          6.0        0.0          0.0            0.0   \n",
       "\n",
       "    deaths_mode  \n",
       "18          0.0  \n",
       "9           0.0  \n",
       "25          0.0  \n",
       "1           0.0  \n",
       "3           0.0  \n",
       "10          0.0  \n",
       "40          0.0  \n",
       "42          0.0  \n",
       "33          0.0  \n",
       "12          0.0  \n",
       "2           0.0  \n",
       "43          0.0  \n",
       "34          0.0  \n",
       "31          0.0  \n",
       "28          0.0  \n",
       "14          0.0  \n",
       "7           0.0  \n",
       "39          0.0  \n",
       "13          0.0  \n",
       "29          0.0  \n",
       "8           0.0  \n",
       "20          0.0  \n",
       "4           0.0  \n",
       "41          0.0  \n",
       "19          0.0  \n",
       "44          0.0  \n",
       "36          0.0  \n",
       "27          0.0  \n",
       "16          0.0  \n",
       "24          0.0  \n",
       "48          0.0  \n",
       "15          0.0  \n",
       "6           0.0  \n",
       "23          0.0  \n",
       "45          0.0  \n",
       "17          0.0  \n",
       "32          0.0  \n",
       "22          0.0  \n",
       "35          0.0  \n",
       "38          0.0  \n",
       "5           0.0  \n",
       "47          0.0  \n",
       "0           0.0  \n",
       "26          0.0  \n",
       "11          0.0  \n",
       "50          0.0  \n",
       "49          0.0  \n",
       "37          0.0  \n",
       "30          0.0  \n",
       "21          0.0  \n",
       "46          0.0  "
      ]
     },
     "execution_count": 665,
     "metadata": {},
     "output_type": "execute_result"
    }
   ],
   "source": [
    "# Found new cases for each day for each state, grouped by date and state to find the sum for each day in a state. \n",
    "# Then found the difference from the previous day count to find the new cases. Caluclated mean/median/ mode for each state.\n",
    "# Divided the values by the total population of the state (by summing popu for each county) and multiplied by 10000000.\n",
    "# Displayed them as a dataframe, sorted by confirmed_cases_mean(per 10,000,000 population) and deaths_mean(per 10000000 population) \n",
    "data=[]\n",
    "grouped = merged_COVID19.groupby('State')\n",
    "for state, group in grouped:\n",
    "    popu = group.groupby('dates')['population'].sum()[1]\n",
    "    a1 = group.groupby(['dates'])['confirmed_cases','deaths'].sum().diff()\n",
    "    mean1 = ((a1.mean()/popu)*1000000).reset_index().round()\n",
    "    median1 = ((a1.median()/popu)*1000000).reset_index().round()\n",
    "    mode1 = a1.mode().iloc[0].reset_index()\n",
    "    data.append([state,mean1.iloc[0,1],median1.iloc[0,1],mode1.iloc[0,1],mean1.iloc[1,1],median1.iloc[1,1],mode1.iloc[1,1]])\n",
    "df_all_states = pd.DataFrame(data,columns=['State','conf_mean','conf_median','conf_mode','deaths_mean','deaths_median','deaths_mode'])\n",
    "print('\\n\\nMean/Median/Mode for new confirmed cases and death rates for each state in the whole US (per 1,000,000).\\n')\n",
    "print('States with highest confirmed cases: \\n\\n{}\\n'.format(df_all_states.sort_values(['conf_mean'],ascending=False).head(5).loc[:,['State','conf_mean','conf_median','conf_mode']]))\n",
    "print('States with highest deaths: \\n\\n{}'.format(df_all_states.sort_values(['deaths_mean'],ascending=False).head(5).loc[:,['State','deaths_mean','deaths_median','deaths_mode']]))\n",
    "df_all_states.sort_values(['conf_mean'],ascending=False)\n",
    "\n"
   ]
  },
  {
   "cell_type": "markdown",
   "metadata": {},
   "source": [
    "## -Identify counties with high case and death rates (normalize by population).\n",
    "\n",
    "### - Grouping the data for Virginia(VA) state by \"County Name\". \n",
    "  - \"Greenville County\",\"Galax City\", \"Franklin city\", \"Emporia City\" and \"Buckingham County\" are the top 5 counties with highest confirmed cases. The rates shown below are per 1,000,000 population.\n",
    "  - \"Galax City\", \"Emporia City\", \"Northampton County\", \"Colonial Heights city\" and \"Shenandoah County\" are the top 5 counties with highest deaths. The rates shown below are per 1,000,000 population."
   ]
  },
  {
   "cell_type": "code",
   "execution_count": 666,
   "metadata": {},
   "outputs": [
    {
     "name": "stdout",
     "output_type": "stream",
     "text": [
      "\n",
      "\n",
      "Mean/Median/Mode for new confirmed cases and death rates for each county in Virginia state (per 1,000,000).\n",
      "\n",
      "Counties with highest confirmed cases: \n",
      "\n",
      "           County Name  conf_mean  conf_median  conf_mode\n",
      "48  Greensville County      275.0          0.0        0.0\n",
      "42          Galax city      269.0          0.0        0.0\n",
      "40       Franklin city      199.0          0.0        0.0\n",
      "31        Emporia city      193.0          0.0        0.0\n",
      "15   Buckingham County      164.0          0.0        0.0\n",
      "\n",
      "Counties with highest deaths: \n",
      "\n",
      "               County Name  deaths_mean  deaths_median  deaths_mode\n",
      "42              Galax city         20.0            0.0          0.0\n",
      "31            Emporia city         17.0            0.0          0.0\n",
      "77      Northampton County         10.0            0.0          0.0\n",
      "24   Colonial Heights city          6.0            0.0          0.0\n",
      "102      Shenandoah County          5.0            0.0          0.0\n"
     ]
    },
    {
     "data": {
      "text/html": [
       "<div>\n",
       "<style scoped>\n",
       "    .dataframe tbody tr th:only-of-type {\n",
       "        vertical-align: middle;\n",
       "    }\n",
       "\n",
       "    .dataframe tbody tr th {\n",
       "        vertical-align: top;\n",
       "    }\n",
       "\n",
       "    .dataframe thead th {\n",
       "        text-align: right;\n",
       "    }\n",
       "</style>\n",
       "<table border=\"1\" class=\"dataframe\">\n",
       "  <thead>\n",
       "    <tr style=\"text-align: right;\">\n",
       "      <th></th>\n",
       "      <th>County Name</th>\n",
       "      <th>conf_mean</th>\n",
       "      <th>conf_median</th>\n",
       "      <th>conf_mode</th>\n",
       "      <th>deaths_mean</th>\n",
       "      <th>deaths_median</th>\n",
       "      <th>deaths_mode</th>\n",
       "    </tr>\n",
       "  </thead>\n",
       "  <tbody>\n",
       "    <tr>\n",
       "      <th>48</th>\n",
       "      <td>Greensville County</td>\n",
       "      <td>275.0</td>\n",
       "      <td>0.0</td>\n",
       "      <td>0.0</td>\n",
       "      <td>4.0</td>\n",
       "      <td>0.0</td>\n",
       "      <td>0.0</td>\n",
       "    </tr>\n",
       "    <tr>\n",
       "      <th>42</th>\n",
       "      <td>Galax city</td>\n",
       "      <td>269.0</td>\n",
       "      <td>0.0</td>\n",
       "      <td>0.0</td>\n",
       "      <td>20.0</td>\n",
       "      <td>0.0</td>\n",
       "      <td>0.0</td>\n",
       "    </tr>\n",
       "    <tr>\n",
       "      <th>40</th>\n",
       "      <td>Franklin city</td>\n",
       "      <td>199.0</td>\n",
       "      <td>0.0</td>\n",
       "      <td>0.0</td>\n",
       "      <td>5.0</td>\n",
       "      <td>0.0</td>\n",
       "      <td>0.0</td>\n",
       "    </tr>\n",
       "    <tr>\n",
       "      <th>31</th>\n",
       "      <td>Emporia city</td>\n",
       "      <td>193.0</td>\n",
       "      <td>0.0</td>\n",
       "      <td>0.0</td>\n",
       "      <td>17.0</td>\n",
       "      <td>0.0</td>\n",
       "      <td>0.0</td>\n",
       "    </tr>\n",
       "    <tr>\n",
       "      <th>15</th>\n",
       "      <td>Buckingham County</td>\n",
       "      <td>164.0</td>\n",
       "      <td>0.0</td>\n",
       "      <td>0.0</td>\n",
       "      <td>2.0</td>\n",
       "      <td>0.0</td>\n",
       "      <td>0.0</td>\n",
       "    </tr>\n",
       "    <tr>\n",
       "      <th>...</th>\n",
       "      <td>...</td>\n",
       "      <td>...</td>\n",
       "      <td>...</td>\n",
       "      <td>...</td>\n",
       "      <td>...</td>\n",
       "      <td>...</td>\n",
       "      <td>...</td>\n",
       "    </tr>\n",
       "    <tr>\n",
       "      <th>43</th>\n",
       "      <td>Giles County</td>\n",
       "      <td>18.0</td>\n",
       "      <td>0.0</td>\n",
       "      <td>0.0</td>\n",
       "      <td>0.0</td>\n",
       "      <td>0.0</td>\n",
       "      <td>0.0</td>\n",
       "    </tr>\n",
       "    <tr>\n",
       "      <th>97</th>\n",
       "      <td>Rockbridge County</td>\n",
       "      <td>17.0</td>\n",
       "      <td>0.0</td>\n",
       "      <td>0.0</td>\n",
       "      <td>0.0</td>\n",
       "      <td>0.0</td>\n",
       "      <td>0.0</td>\n",
       "    </tr>\n",
       "    <tr>\n",
       "      <th>54</th>\n",
       "      <td>Highland County</td>\n",
       "      <td>12.0</td>\n",
       "      <td>0.0</td>\n",
       "      <td>0.0</td>\n",
       "      <td>0.0</td>\n",
       "      <td>0.0</td>\n",
       "      <td>0.0</td>\n",
       "    </tr>\n",
       "    <tr>\n",
       "      <th>8</th>\n",
       "      <td>Bath County</td>\n",
       "      <td>4.0</td>\n",
       "      <td>0.0</td>\n",
       "      <td>0.0</td>\n",
       "      <td>0.0</td>\n",
       "      <td>0.0</td>\n",
       "      <td>0.0</td>\n",
       "    </tr>\n",
       "    <tr>\n",
       "      <th>107</th>\n",
       "      <td>Statewide Unallocated</td>\n",
       "      <td>NaN</td>\n",
       "      <td>NaN</td>\n",
       "      <td>0.0</td>\n",
       "      <td>NaN</td>\n",
       "      <td>NaN</td>\n",
       "      <td>0.0</td>\n",
       "    </tr>\n",
       "  </tbody>\n",
       "</table>\n",
       "<p>121 rows × 7 columns</p>\n",
       "</div>"
      ],
      "text/plain": [
       "               County Name  conf_mean  conf_median  conf_mode  deaths_mean  \\\n",
       "48      Greensville County      275.0          0.0        0.0          4.0   \n",
       "42              Galax city      269.0          0.0        0.0         20.0   \n",
       "40           Franklin city      199.0          0.0        0.0          5.0   \n",
       "31            Emporia city      193.0          0.0        0.0         17.0   \n",
       "15       Buckingham County      164.0          0.0        0.0          2.0   \n",
       "..                     ...        ...          ...        ...          ...   \n",
       "43            Giles County       18.0          0.0        0.0          0.0   \n",
       "97       Rockbridge County       17.0          0.0        0.0          0.0   \n",
       "54         Highland County       12.0          0.0        0.0          0.0   \n",
       "8              Bath County        4.0          0.0        0.0          0.0   \n",
       "107  Statewide Unallocated        NaN          NaN        0.0          NaN   \n",
       "\n",
       "     deaths_median  deaths_mode  \n",
       "48             0.0          0.0  \n",
       "42             0.0          0.0  \n",
       "40             0.0          0.0  \n",
       "31             0.0          0.0  \n",
       "15             0.0          0.0  \n",
       "..             ...          ...  \n",
       "43             0.0          0.0  \n",
       "97             0.0          0.0  \n",
       "54             0.0          0.0  \n",
       "8              0.0          0.0  \n",
       "107            NaN          0.0  \n",
       "\n",
       "[121 rows x 7 columns]"
      ]
     },
     "execution_count": 666,
     "metadata": {},
     "output_type": "execute_result"
    }
   ],
   "source": [
    "data2=[]\n",
    "grouped = COVID19_VA_new_cases.groupby('County Name')\n",
    "for county, group in grouped:\n",
    "    popu = group['population'].iloc[1]\n",
    "    a1 = group[['conf_diff','deaths_diff']]\n",
    "    mean1 = ((a1.mean()/popu)*1000000).round()\n",
    "    median1 = ((a1.median()/popu)*1000000).round()\n",
    "    mode1 = a1.mode().iloc[0]\n",
    "    data2.append([county,mean1.iloc[0],median1.iloc[0],mode1.iloc[0],mean1.iloc[1],median1.iloc[1],mode1.iloc[1]])\n",
    "df_all_county = pd.DataFrame(data2,columns=['County Name','conf_mean','conf_median','conf_mode','deaths_mean','deaths_median','deaths_mode'])\n",
    "print('\\n\\nMean/Median/Mode for new confirmed cases and death rates for each county in Virginia state (per 1,000,000).\\n')\n",
    "print('Counties with highest confirmed cases: \\n\\n{}\\n'.format(df_all_county.sort_values(['conf_mean'],ascending=False).head(5).loc[:,['County Name','conf_mean','conf_median','conf_mode']]))\n",
    "print('Counties with highest deaths: \\n\\n{}'.format(df_all_county.sort_values(['deaths_mean'],ascending=False).head(5).loc[:,['County Name','deaths_mean','deaths_median','deaths_mode']]))\n",
    "df_all_county.sort_values(['conf_mean'],ascending=False)\n",
    "\n"
   ]
  },
  {
   "cell_type": "markdown",
   "metadata": {},
   "source": [
    "## -Plot daily trends ((cases and deaths, new cases)) of state and top 5 infected counties. Utilize aggregrate, normalized by population, and log normalized values.\n",
    "\n",
    "###     - Daily trends for confirmed cases for Virginia state"
   ]
  },
  {
   "cell_type": "code",
   "execution_count": 667,
   "metadata": {},
   "outputs": [
    {
     "name": "stdout",
     "output_type": "stream",
     "text": [
      "Variance: conf_diff      110323.545527\n",
      "deaths_diff       135.816757\n",
      "dtype: float64\n"
     ]
    },
    {
     "name": "stderr",
     "output_type": "stream",
     "text": [
      "/Applications/anaconda3/envs/projectenv/lib/python3.7/site-packages/ipykernel_launcher.py:14: RuntimeWarning:\n",
      "\n",
      "divide by zero encountered in log\n",
      "\n"
     ]
    },
    {
     "data": {
      "image/png": "[encoded data removed]",
      "text/plain": [
       "<IPython.core.display.Image object>"
      ]
     },
     "execution_count": 667,
     "metadata": {},
     "output_type": "execute_result"
    }
   ],
   "source": [
    "# Daily trends for confirmed cases for Virginia state\n",
    "print('Variance: {}'.format(VA_New_Cases_agg[[\"conf_diff\",\"deaths_diff\"]].var()))\n",
    "\n",
    "# log normalization of new confirmed cases. Log normalization is used here becasue the variance is very high in confirmed cases. \n",
    "VA = np.log(((VA_New_Cases_agg.set_index('dates')[[\"conf_diff\",\"deaths_diff\"]]/population_VA)*1000000)).round().reset_index()\n",
    "fig = px.line(VA, x=\"dates\", y=\"conf_diff\", title='Daily trends of confirmed cases of Virginia state').update_traces(mode='lines+markers')\n",
    "# fig.show()\n",
    "imgg = pio.to_image(fig,format='png')\n",
    "Image(imgg)"
   ]
  },
  {
   "cell_type": "markdown",
   "metadata": {},
   "source": [
    "###   - Daily trends for deaths of Virginia state"
   ]
  },
  {
   "cell_type": "code",
   "execution_count": 668,
   "metadata": {},
   "outputs": [
    {
     "data": {
      "image/png": "[encoded data removed]",
      "text/plain": [
       "<IPython.core.display.Image object>"
      ]
     },
     "execution_count": 668,
     "metadata": {},
     "output_type": "execute_result"
    }
   ],
   "source": [
    "# Daily trends for deaths of Virginia state\n",
    "# Normalized by population\n",
    "fig = px.line(VA, x=\"dates\", y=[\"deaths_diff\"], title='Daily trends of deaths in Virginia state').update_traces(mode='lines+markers')\n",
    "# fig.show()\n",
    "imgg = pio.to_image(fig,format='png')\n",
    "Image(imgg)"
   ]
  },
  {
   "cell_type": "markdown",
   "metadata": {},
   "source": [
    "###    - Daily trends for 5 counties of Virginia state \n",
    "   ### - confirmed cases\n",
    "        - Daily trends are computed by first finding number of new cases and deaths\n",
    "        - New cases and deaths are then normalized by population per 1,000,000 and natural log  "
   ]
  },
  {
   "cell_type": "code",
   "execution_count": 669,
   "metadata": {},
   "outputs": [
    {
     "data": {
      "image/png": "[encoded data removed]",
      "text/plain": [
       "<IPython.core.display.Image object>"
      ]
     },
     "execution_count": 669,
     "metadata": {},
     "output_type": "execute_result"
    }
   ],
   "source": [
    "conf_countyname = conf_countyname.drop_duplicates()\n",
    "selected = COVID19_VA_new_cases[COVID19_VA_new_cases['County Name'].isin(conf_countyname)].copy()\n",
    "\n",
    "# new cases, normalize by population\n",
    "selected['conf_diff_norm'] = np.log(((selected['conf_diff']/selected['population'])*100000)).round()\n",
    "selected['deaths_diff_norm'] = (((selected['deaths_diff']/selected['population'])*100000)).round()\n",
    "\n",
    "# sorting by dates is very important\n",
    "selected = selected.sort_values('dates')\n",
    "fig = px.line(selected, x=\"dates\", y=\"conf_diff_norm\", color= \"County Name\",title='Daily trends of confirmed cases of top 5 counties of Virginia state').update_traces(mode='lines+markers')\n",
    "# fig.show()\n",
    "imgg = pio.to_image(fig,format='png')\n",
    "Image(imgg)"
   ]
  },
  {
   "cell_type": "markdown",
   "metadata": {},
   "source": [
    "### - Daily trends of deaths for 5 counties of VA"
   ]
  },
  {
   "cell_type": "code",
   "execution_count": 670,
   "metadata": {},
   "outputs": [
    {
     "data": {
      "image/png": "[encoded data removed]",
      "text/plain": [
       "<IPython.core.display.Image object>"
      ]
     },
     "execution_count": 670,
     "metadata": {},
     "output_type": "execute_result"
    }
   ],
   "source": [
    "fig = px.line(selected, x=\"dates\", y=\"deaths_diff_norm\", color= \"County Name\",title='Daily trends of confirmed cases of top 5 counties of Virginia state').update_traces(mode='lines+markers')\n",
    "# fig.show()\n",
    "imgg = pio.to_image(fig,format='png')\n",
    "Image(imgg)"
   ]
  },
  {
   "cell_type": "markdown",
   "metadata": {},
   "source": [
    "## Task 2"
   ]
  },
  {
   "cell_type": "markdown",
   "metadata": {},
   "source": [
    "## - Fit a distribution to the number of COVID-19 cases of a state.\n",
    "    -- Graphically plot the distribution and describe the distribution statistics.\n",
    "        -Distribution Statistics after normalizing by population: \n",
    "            mean: 62.78991596638655, variance: 2385.010530794596, Skewness: 0.18380211231026353,\n",
    "            Kurtosis: -0.6943953307222666, Std: 48.83656960510838\n",
    "             \n",
    "    -- Describe why the distribution was choosen and its statistics in the report and the notebook.\n",
    "        - Poisson distribution was chosen for the following reasons:\n",
    "           - the dataset is discrete and we know how many times an event has occured over certain time period.\n",
    "           - dataset is random and independently collected. There is no bias associated with this data.\n",
    "           - mean: 62.78991596638655, variance: 2385.010530794596, Skewness: 0.18380211231026353,\n",
    "             Kurtosis: -0.6943953307222666, Std: 48.83656960510838"
   ]
  },
  {
   "cell_type": "markdown",
   "metadata": {},
   "source": [
    "## Distribution for Virginia State"
   ]
  },
  {
   "cell_type": "code",
   "execution_count": 671,
   "metadata": {},
   "outputs": [
    {
     "name": "stdout",
     "output_type": "stream",
     "text": [
      "Variance : \n",
      "conf_diff      110323.545527\n",
      "deaths_diff       135.816757\n",
      "dtype: float64\n",
      "\n",
      "Distribution Statistics after normalizing by population:\n",
      "mean: 62.78991596638655, variance: 2385.010530794596, Skewness: 0.18380211231026353, Kurtosis: -0.6943953307222666, Std: 48.83656960510838\n"
     ]
    },
    {
     "data": {
      "application/vnd.plotly.v1+json": {
       "config": {
        "plotlyServerURL": "https://plotly.com"
       },
       "data": [
        {
         "alignmentgroup": "True",
         "bingroup": "x",
         "hovertemplate": "conf_diff=%{x}<br>count=%{y}<extra></extra>",
         "legendgroup": "",
         "marker": {
          "color": "#636efa"
         },
         "name": "",
         "nbinsx": 30,
         "offsetgroup": "",
         "orientation": "v",
         "showlegend": false,
         "type": "histogram",
         "x": [
          0,
          0,
          0,
          0,
          0,
          0,
          0,
          0,
          0,
          0,
          0,
          0,
          0,
          0,
          0,
          0,
          0,
          0,
          0,
          0,
          0,
          0,
          0,
          0,
          0,
          0,
          0,
          0,
          0,
          0,
          0,
          0,
          0,
          0,
          0,
          0,
          0,
          0,
          0,
          0,
          0,
          0,
          0,
          0,
          0,
          0,
          0,
          1,
          0,
          0,
          0,
          2,
          1,
          0,
          1,
          3,
          1,
          2,
          3,
          5,
          7,
          4,
          4,
          12,
          8,
          18,
          17,
          17,
          17,
          27,
          26,
          22,
          31,
          41,
          28,
          28,
          53,
          36,
          50,
          55,
          72,
          23,
          54,
          54,
          44,
          46,
          61,
          67,
          58,
          55,
          75,
          73,
          88,
          170,
          77,
          0,
          71,
          99,
          75,
          105,
          131,
          100,
          116,
          100,
          91,
          0,
          157,
          92,
          109,
          111,
          125,
          98,
          112,
          132,
          97,
          117,
          92,
          92,
          122,
          94,
          149,
          98,
          91,
          58,
          190,
          195,
          118,
          149,
          131,
          127,
          121,
          86,
          103,
          87,
          123,
          81,
          102,
          136,
          104,
          62,
          53,
          57,
          69,
          76,
          75,
          44,
          55,
          52,
          53,
          65,
          77,
          62,
          50,
          67,
          60,
          47,
          65,
          83,
          51,
          52,
          69,
          45,
          56,
          74,
          74,
          72,
          34,
          64,
          61,
          59,
          89,
          73,
          84,
          88,
          83,
          92,
          67,
          81,
          81,
          102,
          82,
          90,
          89,
          77,
          102,
          83,
          82,
          147,
          93,
          86,
          78,
          85,
          92,
          92,
          123,
          104,
          80,
          88,
          213,
          137,
          98,
          65,
          105,
          85,
          113,
          128,
          96,
          97,
          69,
          102,
          77,
          98,
          112,
          133,
          103,
          74,
          99,
          89,
          125,
          115,
          143,
          96,
          93,
          118,
          101,
          116,
          129,
          105,
          136,
          69,
          85,
          90,
          147,
          128,
          146,
          100,
          88,
          101
         ],
         "xaxis": "x",
         "yaxis": "y"
        }
       ],
       "layout": {
        "barmode": "relative",
        "legend": {
         "tracegroupgap": 0
        },
        "margin": {
         "t": 60
        },
        "template": {
         "data": {
          "bar": [
           {
            "error_x": {
             "color": "#2a3f5f"
            },
            "error_y": {
             "color": "#2a3f5f"
            },
            "marker": {
             "line": {
              "color": "#E5ECF6",
              "width": 0.5
             }
            },
            "type": "bar"
           }
          ],
          "barpolar": [
           {
            "marker": {
             "line": {
              "color": "#E5ECF6",
              "width": 0.5
             }
            },
            "type": "barpolar"
           }
          ],
          "carpet": [
           {
            "aaxis": {
             "endlinecolor": "#2a3f5f",
             "gridcolor": "white",
             "linecolor": "white",
             "minorgridcolor": "white",
             "startlinecolor": "#2a3f5f"
            },
            "baxis": {
             "endlinecolor": "#2a3f5f",
             "gridcolor": "white",
             "linecolor": "white",
             "minorgridcolor": "white",
             "startlinecolor": "#2a3f5f"
            },
            "type": "carpet"
           }
          ],
          "choropleth": [
           {
            "colorbar": {
             "outlinewidth": 0,
             "ticks": ""
            },
            "type": "choropleth"
           }
          ],
          "contour": [
           {
            "colorbar": {
             "outlinewidth": 0,
             "ticks": ""
            },
            "colorscale": [
             [
              0,
              "#0d0887"
             ],
             [
              0.1111111111111111,
              "#46039f"
             ],
             [
              0.2222222222222222,
              "#7201a8"
             ],
             [
              0.3333333333333333,
              "#9c179e"
             ],
             [
              0.4444444444444444,
              "#bd3786"
             ],
             [
              0.5555555555555556,
              "#d8576b"
             ],
             [
              0.6666666666666666,
              "#ed7953"
             ],
             [
              0.7777777777777778,
              "#fb9f3a"
             ],
             [
              0.8888888888888888,
              "#fdca26"
             ],
             [
              1,
              "#f0f921"
             ]
            ],
            "type": "contour"
           }
          ],
          "contourcarpet": [
           {
            "colorbar": {
             "outlinewidth": 0,
             "ticks": ""
            },
            "type": "contourcarpet"
           }
          ],
          "heatmap": [
           {
            "colorbar": {
             "outlinewidth": 0,
             "ticks": ""
            },
            "colorscale": [
             [
              0,
              "#0d0887"
             ],
             [
              0.1111111111111111,
              "#46039f"
             ],
             [
              0.2222222222222222,
              "#7201a8"
             ],
             [
              0.3333333333333333,
              "#9c179e"
             ],
             [
              0.4444444444444444,
              "#bd3786"
             ],
             [
              0.5555555555555556,
              "#d8576b"
             ],
             [
              0.6666666666666666,
              "#ed7953"
             ],
             [
              0.7777777777777778,
              "#fb9f3a"
             ],
             [
              0.8888888888888888,
              "#fdca26"
             ],
             [
              1,
              "#f0f921"
             ]
            ],
            "type": "heatmap"
           }
          ],
          "heatmapgl": [
           {
            "colorbar": {
             "outlinewidth": 0,
             "ticks": ""
            },
            "colorscale": [
             [
              0,
              "#0d0887"
             ],
             [
              0.1111111111111111,
              "#46039f"
             ],
             [
              0.2222222222222222,
              "#7201a8"
             ],
             [
              0.3333333333333333,
              "#9c179e"
             ],
             [
              0.4444444444444444,
              "#bd3786"
             ],
             [
              0.5555555555555556,
              "#d8576b"
             ],
             [
              0.6666666666666666,
              "#ed7953"
             ],
             [
              0.7777777777777778,
              "#fb9f3a"
             ],
             [
              0.8888888888888888,
              "#fdca26"
             ],
             [
              1,
              "#f0f921"
             ]
            ],
            "type": "heatmapgl"
           }
          ],
          "histogram": [
           {
            "marker": {
             "colorbar": {
              "outlinewidth": 0,
              "ticks": ""
             }
            },
            "type": "histogram"
           }
          ],
          "histogram2d": [
           {
            "colorbar": {
             "outlinewidth": 0,
             "ticks": ""
            },
            "colorscale": [
             [
              0,
              "#0d0887"
             ],
             [
              0.1111111111111111,
              "#46039f"
             ],
             [
              0.2222222222222222,
              "#7201a8"
             ],
             [
              0.3333333333333333,
              "#9c179e"
             ],
             [
              0.4444444444444444,
              "#bd3786"
             ],
             [
              0.5555555555555556,
              "#d8576b"
             ],
             [
              0.6666666666666666,
              "#ed7953"
             ],
             [
              0.7777777777777778,
              "#fb9f3a"
             ],
             [
              0.8888888888888888,
              "#fdca26"
             ],
             [
              1,
              "#f0f921"
             ]
            ],
            "type": "histogram2d"
           }
          ],
          "histogram2dcontour": [
           {
            "colorbar": {
             "outlinewidth": 0,
             "ticks": ""
            },
            "colorscale": [
             [
              0,
              "#0d0887"
             ],
             [
              0.1111111111111111,
              "#46039f"
             ],
             [
              0.2222222222222222,
              "#7201a8"
             ],
             [
              0.3333333333333333,
              "#9c179e"
             ],
             [
              0.4444444444444444,
              "#bd3786"
             ],
             [
              0.5555555555555556,
              "#d8576b"
             ],
             [
              0.6666666666666666,
              "#ed7953"
             ],
             [
              0.7777777777777778,
              "#fb9f3a"
             ],
             [
              0.8888888888888888,
              "#fdca26"
             ],
             [
              1,
              "#f0f921"
             ]
            ],
            "type": "histogram2dcontour"
           }
          ],
          "mesh3d": [
           {
            "colorbar": {
             "outlinewidth": 0,
             "ticks": ""
            },
            "type": "mesh3d"
           }
          ],
          "parcoords": [
           {
            "line": {
             "colorbar": {
              "outlinewidth": 0,
              "ticks": ""
             }
            },
            "type": "parcoords"
           }
          ],
          "pie": [
           {
            "automargin": true,
            "type": "pie"
           }
          ],
          "scatter": [
           {
            "marker": {
             "colorbar": {
              "outlinewidth": 0,
              "ticks": ""
             }
            },
            "type": "scatter"
           }
          ],
          "scatter3d": [
           {
            "line": {
             "colorbar": {
              "outlinewidth": 0,
              "ticks": ""
             }
            },
            "marker": {
             "colorbar": {
              "outlinewidth": 0,
              "ticks": ""
             }
            },
            "type": "scatter3d"
           }
          ],
          "scattercarpet": [
           {
            "marker": {
             "colorbar": {
              "outlinewidth": 0,
              "ticks": ""
             }
            },
            "type": "scattercarpet"
           }
          ],
          "scattergeo": [
           {
            "marker": {
             "colorbar": {
              "outlinewidth": 0,
              "ticks": ""
             }
            },
            "type": "scattergeo"
           }
          ],
          "scattergl": [
           {
            "marker": {
             "colorbar": {
              "outlinewidth": 0,
              "ticks": ""
             }
            },
            "type": "scattergl"
           }
          ],
          "scattermapbox": [
           {
            "marker": {
             "colorbar": {
              "outlinewidth": 0,
              "ticks": ""
             }
            },
            "type": "scattermapbox"
           }
          ],
          "scatterpolar": [
           {
            "marker": {
             "colorbar": {
              "outlinewidth": 0,
              "ticks": ""
             }
            },
            "type": "scatterpolar"
           }
          ],
          "scatterpolargl": [
           {
            "marker": {
             "colorbar": {
              "outlinewidth": 0,
              "ticks": ""
             }
            },
            "type": "scatterpolargl"
           }
          ],
          "scatterternary": [
           {
            "marker": {
             "colorbar": {
              "outlinewidth": 0,
              "ticks": ""
             }
            },
            "type": "scatterternary"
           }
          ],
          "surface": [
           {
            "colorbar": {
             "outlinewidth": 0,
             "ticks": ""
            },
            "colorscale": [
             [
              0,
              "#0d0887"
             ],
             [
              0.1111111111111111,
              "#46039f"
             ],
             [
              0.2222222222222222,
              "#7201a8"
             ],
             [
              0.3333333333333333,
              "#9c179e"
             ],
             [
              0.4444444444444444,
              "#bd3786"
             ],
             [
              0.5555555555555556,
              "#d8576b"
             ],
             [
              0.6666666666666666,
              "#ed7953"
             ],
             [
              0.7777777777777778,
              "#fb9f3a"
             ],
             [
              0.8888888888888888,
              "#fdca26"
             ],
             [
              1,
              "#f0f921"
             ]
            ],
            "type": "surface"
           }
          ],
          "table": [
           {
            "cells": {
             "fill": {
              "color": "#EBF0F8"
             },
             "line": {
              "color": "white"
             }
            },
            "header": {
             "fill": {
              "color": "#C8D4E3"
             },
             "line": {
              "color": "white"
             }
            },
            "type": "table"
           }
          ]
         },
         "layout": {
          "annotationdefaults": {
           "arrowcolor": "#2a3f5f",
           "arrowhead": 0,
           "arrowwidth": 1
          },
          "coloraxis": {
           "colorbar": {
            "outlinewidth": 0,
            "ticks": ""
           }
          },
          "colorscale": {
           "diverging": [
            [
             0,
             "#8e0152"
            ],
            [
             0.1,
             "#c51b7d"
            ],
            [
             0.2,
             "#de77ae"
            ],
            [
             0.3,
             "#f1b6da"
            ],
            [
             0.4,
             "#fde0ef"
            ],
            [
             0.5,
             "#f7f7f7"
            ],
            [
             0.6,
             "#e6f5d0"
            ],
            [
             0.7,
             "#b8e186"
            ],
            [
             0.8,
             "#7fbc41"
            ],
            [
             0.9,
             "#4d9221"
            ],
            [
             1,
             "#276419"
            ]
           ],
           "sequential": [
            [
             0,
             "#0d0887"
            ],
            [
             0.1111111111111111,
             "#46039f"
            ],
            [
             0.2222222222222222,
             "#7201a8"
            ],
            [
             0.3333333333333333,
             "#9c179e"
            ],
            [
             0.4444444444444444,
             "#bd3786"
            ],
            [
             0.5555555555555556,
             "#d8576b"
            ],
            [
             0.6666666666666666,
             "#ed7953"
            ],
            [
             0.7777777777777778,
             "#fb9f3a"
            ],
            [
             0.8888888888888888,
             "#fdca26"
            ],
            [
             1,
             "#f0f921"
            ]
           ],
           "sequentialminus": [
            [
             0,
             "#0d0887"
            ],
            [
             0.1111111111111111,
             "#46039f"
            ],
            [
             0.2222222222222222,
             "#7201a8"
            ],
            [
             0.3333333333333333,
             "#9c179e"
            ],
            [
             0.4444444444444444,
             "#bd3786"
            ],
            [
             0.5555555555555556,
             "#d8576b"
            ],
            [
             0.6666666666666666,
             "#ed7953"
            ],
            [
             0.7777777777777778,
             "#fb9f3a"
            ],
            [
             0.8888888888888888,
             "#fdca26"
            ],
            [
             1,
             "#f0f921"
            ]
           ]
          },
          "colorway": [
           "#636efa",
           "#EF553B",
           "#00cc96",
           "#ab63fa",
           "#FFA15A",
           "#19d3f3",
           "#FF6692",
           "#B6E880",
           "#FF97FF",
           "#FECB52"
          ],
          "font": {
           "color": "#2a3f5f"
          },
          "geo": {
           "bgcolor": "white",
           "lakecolor": "white",
           "landcolor": "#E5ECF6",
           "showlakes": true,
           "showland": true,
           "subunitcolor": "white"
          },
          "hoverlabel": {
           "align": "left"
          },
          "hovermode": "closest",
          "mapbox": {
           "style": "light"
          },
          "paper_bgcolor": "white",
          "plot_bgcolor": "#E5ECF6",
          "polar": {
           "angularaxis": {
            "gridcolor": "white",
            "linecolor": "white",
            "ticks": ""
           },
           "bgcolor": "#E5ECF6",
           "radialaxis": {
            "gridcolor": "white",
            "linecolor": "white",
            "ticks": ""
           }
          },
          "scene": {
           "xaxis": {
            "backgroundcolor": "#E5ECF6",
            "gridcolor": "white",
            "gridwidth": 2,
            "linecolor": "white",
            "showbackground": true,
            "ticks": "",
            "zerolinecolor": "white"
           },
           "yaxis": {
            "backgroundcolor": "#E5ECF6",
            "gridcolor": "white",
            "gridwidth": 2,
            "linecolor": "white",
            "showbackground": true,
            "ticks": "",
            "zerolinecolor": "white"
           },
           "zaxis": {
            "backgroundcolor": "#E5ECF6",
            "gridcolor": "white",
            "gridwidth": 2,
            "linecolor": "white",
            "showbackground": true,
            "ticks": "",
            "zerolinecolor": "white"
           }
          },
          "shapedefaults": {
           "line": {
            "color": "#2a3f5f"
           }
          },
          "ternary": {
           "aaxis": {
            "gridcolor": "white",
            "linecolor": "white",
            "ticks": ""
           },
           "baxis": {
            "gridcolor": "white",
            "linecolor": "white",
            "ticks": ""
           },
           "bgcolor": "#E5ECF6",
           "caxis": {
            "gridcolor": "white",
            "linecolor": "white",
            "ticks": ""
           }
          },
          "title": {
           "x": 0.05
          },
          "xaxis": {
           "automargin": true,
           "gridcolor": "white",
           "linecolor": "white",
           "ticks": "",
           "title": {
            "standoff": 15
           },
           "zerolinecolor": "white",
           "zerolinewidth": 2
          },
          "yaxis": {
           "automargin": true,
           "gridcolor": "white",
           "linecolor": "white",
           "ticks": "",
           "title": {
            "standoff": 15
           },
           "zerolinecolor": "white",
           "zerolinewidth": 2
          }
         }
        },
        "xaxis": {
         "anchor": "y",
         "domain": [
          0,
          1
         ],
         "title": {
          "text": "conf_diff"
         }
        },
        "yaxis": {
         "anchor": "x",
         "domain": [
          0,
          1
         ],
         "title": {
          "text": "count"
         }
        }
       }
      },
      "text/html": [
       "<div>\n",
       "        \n",
       "        \n",
       "            <div id=\"01ca6c8e-be9b-4a78-8332-761bb5e7a461\" class=\"plotly-graph-div\" style=\"height:525px; width:100%;\"></div>\n",
       "            <script type=\"text/javascript\">\n",
       "                require([\"plotly\"], function(Plotly) {\n",
       "                    window.PLOTLYENV=window.PLOTLYENV || {};\n",
       "                    \n",
       "                if (document.getElementById(\"01ca6c8e-be9b-4a78-8332-761bb5e7a461\")) {\n",
       "                    Plotly.newPlot(\n",
       "                        '01ca6c8e-be9b-4a78-8332-761bb5e7a461',\n",
       "                        [{\"alignmentgroup\": \"True\", \"bingroup\": \"x\", \"hovertemplate\": \"conf_diff=%{x}<br>count=%{y}<extra></extra>\", \"legendgroup\": \"\", \"marker\": {\"color\": \"#636efa\"}, \"name\": \"\", \"nbinsx\": 30, \"offsetgroup\": \"\", \"orientation\": \"v\", \"showlegend\": false, \"type\": \"histogram\", \"x\": [0.0, 0.0, 0.0, 0.0, 0.0, 0.0, 0.0, 0.0, 0.0, 0.0, 0.0, 0.0, 0.0, 0.0, 0.0, 0.0, 0.0, 0.0, 0.0, 0.0, 0.0, 0.0, 0.0, 0.0, 0.0, 0.0, 0.0, 0.0, 0.0, 0.0, 0.0, 0.0, 0.0, 0.0, 0.0, 0.0, 0.0, 0.0, 0.0, 0.0, 0.0, 0.0, 0.0, 0.0, 0.0, 0.0, 0.0, 1.0, 0.0, 0.0, 0.0, 2.0, 1.0, 0.0, 1.0, 3.0, 1.0, 2.0, 3.0, 5.0, 7.0, 4.0, 4.0, 12.0, 8.0, 18.0, 17.0, 17.0, 17.0, 27.0, 26.0, 22.0, 31.0, 41.0, 28.0, 28.0, 53.0, 36.0, 50.0, 55.0, 72.0, 23.0, 54.0, 54.0, 44.0, 46.0, 61.0, 67.0, 58.0, 55.0, 75.0, 73.0, 88.0, 170.0, 77.0, 0.0, 71.0, 99.0, 75.0, 105.0, 131.0, 100.0, 116.0, 100.0, 91.0, 0.0, 157.0, 92.0, 109.0, 111.0, 125.0, 98.0, 112.0, 132.0, 97.0, 117.0, 92.0, 92.0, 122.0, 94.0, 149.0, 98.0, 91.0, 58.0, 190.0, 195.0, 118.0, 149.0, 131.0, 127.0, 121.0, 86.0, 103.0, 87.0, 123.0, 81.0, 102.0, 136.0, 104.0, 62.0, 53.0, 57.0, 69.0, 76.0, 75.0, 44.0, 55.0, 52.0, 53.0, 65.0, 77.0, 62.0, 50.0, 67.0, 60.0, 47.0, 65.0, 83.0, 51.0, 52.0, 69.0, 45.0, 56.0, 74.0, 74.0, 72.0, 34.0, 64.0, 61.0, 59.0, 89.0, 73.0, 84.0, 88.0, 83.0, 92.0, 67.0, 81.0, 81.0, 102.0, 82.0, 90.0, 89.0, 77.0, 102.0, 83.0, 82.0, 147.0, 93.0, 86.0, 78.0, 85.0, 92.0, 92.0, 123.0, 104.0, 80.0, 88.0, 213.0, 137.0, 98.0, 65.0, 105.0, 85.0, 113.0, 128.0, 96.0, 97.0, 69.0, 102.0, 77.0, 98.0, 112.0, 133.0, 103.0, 74.0, 99.0, 89.0, 125.0, 115.0, 143.0, 96.0, 93.0, 118.0, 101.0, 116.0, 129.0, 105.0, 136.0, 69.0, 85.0, 90.0, 147.0, 128.0, 146.0, 100.0, 88.0, 101.0], \"xaxis\": \"x\", \"yaxis\": \"y\"}],\n",
       "                        {\"barmode\": \"relative\", \"legend\": {\"tracegroupgap\": 0}, \"margin\": {\"t\": 60}, \"template\": {\"data\": {\"bar\": [{\"error_x\": {\"color\": \"#2a3f5f\"}, \"error_y\": {\"color\": \"#2a3f5f\"}, \"marker\": {\"line\": {\"color\": \"#E5ECF6\", \"width\": 0.5}}, \"type\": \"bar\"}], \"barpolar\": [{\"marker\": {\"line\": {\"color\": \"#E5ECF6\", \"width\": 0.5}}, \"type\": \"barpolar\"}], \"carpet\": [{\"aaxis\": {\"endlinecolor\": \"#2a3f5f\", \"gridcolor\": \"white\", \"linecolor\": \"white\", \"minorgridcolor\": \"white\", \"startlinecolor\": \"#2a3f5f\"}, \"baxis\": {\"endlinecolor\": \"#2a3f5f\", \"gridcolor\": \"white\", \"linecolor\": \"white\", \"minorgridcolor\": \"white\", \"startlinecolor\": \"#2a3f5f\"}, \"type\": \"carpet\"}], \"choropleth\": [{\"colorbar\": {\"outlinewidth\": 0, \"ticks\": \"\"}, \"type\": \"choropleth\"}], \"contour\": [{\"colorbar\": {\"outlinewidth\": 0, \"ticks\": \"\"}, \"colorscale\": [[0.0, \"#0d0887\"], [0.1111111111111111, \"#46039f\"], [0.2222222222222222, \"#7201a8\"], [0.3333333333333333, \"#9c179e\"], [0.4444444444444444, \"#bd3786\"], [0.5555555555555556, \"#d8576b\"], [0.6666666666666666, \"#ed7953\"], [0.7777777777777778, \"#fb9f3a\"], [0.8888888888888888, \"#fdca26\"], [1.0, \"#f0f921\"]], \"type\": \"contour\"}], \"contourcarpet\": [{\"colorbar\": {\"outlinewidth\": 0, \"ticks\": \"\"}, \"type\": \"contourcarpet\"}], \"heatmap\": [{\"colorbar\": {\"outlinewidth\": 0, \"ticks\": \"\"}, \"colorscale\": [[0.0, \"#0d0887\"], [0.1111111111111111, \"#46039f\"], [0.2222222222222222, \"#7201a8\"], [0.3333333333333333, \"#9c179e\"], [0.4444444444444444, \"#bd3786\"], [0.5555555555555556, \"#d8576b\"], [0.6666666666666666, \"#ed7953\"], [0.7777777777777778, \"#fb9f3a\"], [0.8888888888888888, \"#fdca26\"], [1.0, \"#f0f921\"]], \"type\": \"heatmap\"}], \"heatmapgl\": [{\"colorbar\": {\"outlinewidth\": 0, \"ticks\": \"\"}, \"colorscale\": [[0.0, \"#0d0887\"], [0.1111111111111111, \"#46039f\"], [0.2222222222222222, \"#7201a8\"], [0.3333333333333333, \"#9c179e\"], [0.4444444444444444, \"#bd3786\"], [0.5555555555555556, \"#d8576b\"], [0.6666666666666666, \"#ed7953\"], [0.7777777777777778, \"#fb9f3a\"], [0.8888888888888888, \"#fdca26\"], [1.0, \"#f0f921\"]], \"type\": \"heatmapgl\"}], \"histogram\": [{\"marker\": {\"colorbar\": {\"outlinewidth\": 0, \"ticks\": \"\"}}, \"type\": \"histogram\"}], \"histogram2d\": [{\"colorbar\": {\"outlinewidth\": 0, \"ticks\": \"\"}, \"colorscale\": [[0.0, \"#0d0887\"], [0.1111111111111111, \"#46039f\"], [0.2222222222222222, \"#7201a8\"], [0.3333333333333333, \"#9c179e\"], [0.4444444444444444, \"#bd3786\"], [0.5555555555555556, \"#d8576b\"], [0.6666666666666666, \"#ed7953\"], [0.7777777777777778, \"#fb9f3a\"], [0.8888888888888888, \"#fdca26\"], [1.0, \"#f0f921\"]], \"type\": \"histogram2d\"}], \"histogram2dcontour\": [{\"colorbar\": {\"outlinewidth\": 0, \"ticks\": \"\"}, \"colorscale\": [[0.0, \"#0d0887\"], [0.1111111111111111, \"#46039f\"], [0.2222222222222222, \"#7201a8\"], [0.3333333333333333, \"#9c179e\"], [0.4444444444444444, \"#bd3786\"], [0.5555555555555556, \"#d8576b\"], [0.6666666666666666, \"#ed7953\"], [0.7777777777777778, \"#fb9f3a\"], [0.8888888888888888, \"#fdca26\"], [1.0, \"#f0f921\"]], \"type\": \"histogram2dcontour\"}], \"mesh3d\": [{\"colorbar\": {\"outlinewidth\": 0, \"ticks\": \"\"}, \"type\": \"mesh3d\"}], \"parcoords\": [{\"line\": {\"colorbar\": {\"outlinewidth\": 0, \"ticks\": \"\"}}, \"type\": \"parcoords\"}], \"pie\": [{\"automargin\": true, \"type\": \"pie\"}], \"scatter\": [{\"marker\": {\"colorbar\": {\"outlinewidth\": 0, \"ticks\": \"\"}}, \"type\": \"scatter\"}], \"scatter3d\": [{\"line\": {\"colorbar\": {\"outlinewidth\": 0, \"ticks\": \"\"}}, \"marker\": {\"colorbar\": {\"outlinewidth\": 0, \"ticks\": \"\"}}, \"type\": \"scatter3d\"}], \"scattercarpet\": [{\"marker\": {\"colorbar\": {\"outlinewidth\": 0, \"ticks\": \"\"}}, \"type\": \"scattercarpet\"}], \"scattergeo\": [{\"marker\": {\"colorbar\": {\"outlinewidth\": 0, \"ticks\": \"\"}}, \"type\": \"scattergeo\"}], \"scattergl\": [{\"marker\": {\"colorbar\": {\"outlinewidth\": 0, \"ticks\": \"\"}}, \"type\": \"scattergl\"}], \"scattermapbox\": [{\"marker\": {\"colorbar\": {\"outlinewidth\": 0, \"ticks\": \"\"}}, \"type\": \"scattermapbox\"}], \"scatterpolar\": [{\"marker\": {\"colorbar\": {\"outlinewidth\": 0, \"ticks\": \"\"}}, \"type\": \"scatterpolar\"}], \"scatterpolargl\": [{\"marker\": {\"colorbar\": {\"outlinewidth\": 0, \"ticks\": \"\"}}, \"type\": \"scatterpolargl\"}], \"scatterternary\": [{\"marker\": {\"colorbar\": {\"outlinewidth\": 0, \"ticks\": \"\"}}, \"type\": \"scatterternary\"}], \"surface\": [{\"colorbar\": {\"outlinewidth\": 0, \"ticks\": \"\"}, \"colorscale\": [[0.0, \"#0d0887\"], [0.1111111111111111, \"#46039f\"], [0.2222222222222222, \"#7201a8\"], [0.3333333333333333, \"#9c179e\"], [0.4444444444444444, \"#bd3786\"], [0.5555555555555556, \"#d8576b\"], [0.6666666666666666, \"#ed7953\"], [0.7777777777777778, \"#fb9f3a\"], [0.8888888888888888, \"#fdca26\"], [1.0, \"#f0f921\"]], \"type\": \"surface\"}], \"table\": [{\"cells\": {\"fill\": {\"color\": \"#EBF0F8\"}, \"line\": {\"color\": \"white\"}}, \"header\": {\"fill\": {\"color\": \"#C8D4E3\"}, \"line\": {\"color\": \"white\"}}, \"type\": \"table\"}]}, \"layout\": {\"annotationdefaults\": {\"arrowcolor\": \"#2a3f5f\", \"arrowhead\": 0, \"arrowwidth\": 1}, \"coloraxis\": {\"colorbar\": {\"outlinewidth\": 0, \"ticks\": \"\"}}, \"colorscale\": {\"diverging\": [[0, \"#8e0152\"], [0.1, \"#c51b7d\"], [0.2, \"#de77ae\"], [0.3, \"#f1b6da\"], [0.4, \"#fde0ef\"], [0.5, \"#f7f7f7\"], [0.6, \"#e6f5d0\"], [0.7, \"#b8e186\"], [0.8, \"#7fbc41\"], [0.9, \"#4d9221\"], [1, \"#276419\"]], \"sequential\": [[0.0, \"#0d0887\"], [0.1111111111111111, \"#46039f\"], [0.2222222222222222, \"#7201a8\"], [0.3333333333333333, \"#9c179e\"], [0.4444444444444444, \"#bd3786\"], [0.5555555555555556, \"#d8576b\"], [0.6666666666666666, \"#ed7953\"], [0.7777777777777778, \"#fb9f3a\"], [0.8888888888888888, \"#fdca26\"], [1.0, \"#f0f921\"]], \"sequentialminus\": [[0.0, \"#0d0887\"], [0.1111111111111111, \"#46039f\"], [0.2222222222222222, \"#7201a8\"], [0.3333333333333333, \"#9c179e\"], [0.4444444444444444, \"#bd3786\"], [0.5555555555555556, \"#d8576b\"], [0.6666666666666666, \"#ed7953\"], [0.7777777777777778, \"#fb9f3a\"], [0.8888888888888888, \"#fdca26\"], [1.0, \"#f0f921\"]]}, \"colorway\": [\"#636efa\", \"#EF553B\", \"#00cc96\", \"#ab63fa\", \"#FFA15A\", \"#19d3f3\", \"#FF6692\", \"#B6E880\", \"#FF97FF\", \"#FECB52\"], \"font\": {\"color\": \"#2a3f5f\"}, \"geo\": {\"bgcolor\": \"white\", \"lakecolor\": \"white\", \"landcolor\": \"#E5ECF6\", \"showlakes\": true, \"showland\": true, \"subunitcolor\": \"white\"}, \"hoverlabel\": {\"align\": \"left\"}, \"hovermode\": \"closest\", \"mapbox\": {\"style\": \"light\"}, \"paper_bgcolor\": \"white\", \"plot_bgcolor\": \"#E5ECF6\", \"polar\": {\"angularaxis\": {\"gridcolor\": \"white\", \"linecolor\": \"white\", \"ticks\": \"\"}, \"bgcolor\": \"#E5ECF6\", \"radialaxis\": {\"gridcolor\": \"white\", \"linecolor\": \"white\", \"ticks\": \"\"}}, \"scene\": {\"xaxis\": {\"backgroundcolor\": \"#E5ECF6\", \"gridcolor\": \"white\", \"gridwidth\": 2, \"linecolor\": \"white\", \"showbackground\": true, \"ticks\": \"\", \"zerolinecolor\": \"white\"}, \"yaxis\": {\"backgroundcolor\": \"#E5ECF6\", \"gridcolor\": \"white\", \"gridwidth\": 2, \"linecolor\": \"white\", \"showbackground\": true, \"ticks\": \"\", \"zerolinecolor\": \"white\"}, \"zaxis\": {\"backgroundcolor\": \"#E5ECF6\", \"gridcolor\": \"white\", \"gridwidth\": 2, \"linecolor\": \"white\", \"showbackground\": true, \"ticks\": \"\", \"zerolinecolor\": \"white\"}}, \"shapedefaults\": {\"line\": {\"color\": \"#2a3f5f\"}}, \"ternary\": {\"aaxis\": {\"gridcolor\": \"white\", \"linecolor\": \"white\", \"ticks\": \"\"}, \"baxis\": {\"gridcolor\": \"white\", \"linecolor\": \"white\", \"ticks\": \"\"}, \"bgcolor\": \"#E5ECF6\", \"caxis\": {\"gridcolor\": \"white\", \"linecolor\": \"white\", \"ticks\": \"\"}}, \"title\": {\"x\": 0.05}, \"xaxis\": {\"automargin\": true, \"gridcolor\": \"white\", \"linecolor\": \"white\", \"ticks\": \"\", \"title\": {\"standoff\": 15}, \"zerolinecolor\": \"white\", \"zerolinewidth\": 2}, \"yaxis\": {\"automargin\": true, \"gridcolor\": \"white\", \"linecolor\": \"white\", \"ticks\": \"\", \"title\": {\"standoff\": 15}, \"zerolinecolor\": \"white\", \"zerolinewidth\": 2}}}, \"xaxis\": {\"anchor\": \"y\", \"domain\": [0.0, 1.0], \"title\": {\"text\": \"conf_diff\"}}, \"yaxis\": {\"anchor\": \"x\", \"domain\": [0.0, 1.0], \"title\": {\"text\": \"count\"}}},\n",
       "                        {\"responsive\": true}\n",
       "                    ).then(function(){\n",
       "                            \n",
       "var gd = document.getElementById('01ca6c8e-be9b-4a78-8332-761bb5e7a461');\n",
       "var x = new MutationObserver(function (mutations, observer) {{\n",
       "        var display = window.getComputedStyle(gd).display;\n",
       "        if (!display || display === 'none') {{\n",
       "            console.log([gd, 'removed!']);\n",
       "            Plotly.purge(gd);\n",
       "            observer.disconnect();\n",
       "        }}\n",
       "}});\n",
       "\n",
       "// Listen for the removal of the full notebook cells\n",
       "var notebookContainer = gd.closest('#notebook-container');\n",
       "if (notebookContainer) {{\n",
       "    x.observe(notebookContainer, {childList: true});\n",
       "}}\n",
       "\n",
       "// Listen for the clearing of the current output cell\n",
       "var outputEl = gd.closest('.output');\n",
       "if (outputEl) {{\n",
       "    x.observe(outputEl, {childList: true});\n",
       "}}\n",
       "\n",
       "                        })\n",
       "                };\n",
       "                });\n",
       "            </script>\n",
       "        </div>"
      ]
     },
     "metadata": {},
     "output_type": "display_data"
    },
    {
     "data": {
      "image/png": "[encoded data removed]",
      "text/plain": [
       "<IPython.core.display.Image object>"
      ]
     },
     "execution_count": 671,
     "metadata": {},
     "output_type": "execute_result"
    }
   ],
   "source": [
    "print('Variance : \\n{}'.format(VA_New_Cases_agg[['conf_diff','deaths_diff']].var()))\n",
    "VA_New_Cases_agg = VA_New_Cases_agg.fillna(0)\n",
    "# print('Variance in data: \\n',VA_New_Cases.var())\n",
    "df = ((VA_New_Cases_agg['conf_diff']/population_VA)*1000000).round()\n",
    "mean = df.mean()\n",
    "var = df.var()\n",
    "skew1 = skew(df)   \n",
    "kurt = kurtosis(df)\n",
    "std = st.stdev(df)\n",
    "print('\\nDistribution Statistics after normalizing by population:\\nmean: {}, variance: {}, Skewness: {}, Kurtosis: {}, Std: {}'.format(mean,var,skew1,kurt,std))\n",
    "\n",
    "# VA_New_Cases.head(50)\n",
    "fig0 = px.histogram(df, x=\"conf_diff\", nbins=30)\n",
    "fig0.show()\n",
    "\n",
    "# Tried poisson distribution\n",
    "x = np.arange(0,200,10)\n",
    "y = poisson.pmf(mu=mean,k=x)\n",
    "fig2 = px.line(x=x,y=poisson.pmf(mu=mean,k=x), title='Tried fitting poisson distribution').update_traces(mode='lines+markers')\n",
    "# fig2.show()\n",
    "imgg2 = pio.to_image(fig2,format='png')\n",
    "Image(imgg2)"
   ]
  },
  {
   "cell_type": "code",
   "execution_count": 672,
   "metadata": {},
   "outputs": [
    {
     "data": {
      "image/png": "[encoded data removed]",
      "text/plain": [
       "<IPython.core.display.Image object>"
      ]
     },
     "execution_count": 672,
     "metadata": {},
     "output_type": "execute_result"
    }
   ],
   "source": [
    "# plotting the histogram image\n",
    "imgg0 = pio.to_image(fig0,format='png')\n",
    "Image(imgg0)"
   ]
  },
  {
   "cell_type": "markdown",
   "metadata": {},
   "source": [
    "## - Model a poisson distribution of COVID-19 cases and deaths of a state and compare to other 5 states. Number of new cases and deaths per 1,000,000 populations.\n",
    "       - Compared states \"VA\" with \"LA\", \"CA\", \"FL\", \"SC\", \"ME\""
   ]
  },
  {
   "cell_type": "code",
   "execution_count": 673,
   "metadata": {},
   "outputs": [],
   "source": [
    "# normalized by population (these are calculated earlier in the notebook and used here) \n",
    "df_all_states.set_index('State',inplace=True)"
   ]
  },
  {
   "cell_type": "markdown",
   "metadata": {},
   "source": [
    "## Model poisson distribution for confirmed cases"
   ]
  },
  {
   "cell_type": "code",
   "execution_count": 674,
   "metadata": {},
   "outputs": [
    {
     "name": "stdout",
     "output_type": "stream",
     "text": [
      "Distribution Statistics for State Virginia\n",
      "mean: 63.0, Variance: 63.0, Skewness: 0.12598815766974242, Kurtosis: 0.015873015873015872\n"
     ]
    },
    {
     "data": {
      "image/png": "[encoded data removed]",
      "text/plain": [
       "<IPython.core.display.Image object>"
      ]
     },
     "execution_count": 674,
     "metadata": {},
     "output_type": "execute_result"
    }
   ],
   "source": [
    "# model poisson distribution for confirmed cases\n",
    "x = np.arange(0,170,5)\n",
    "mu = df_all_states.loc['VA','conf_mean']\n",
    "mean, var, skew, kurt = poisson.stats(mu, moments='mvsk')\n",
    "print('Distribution Statistics for State Virginia\\nmean: {}, Variance: {}, Skewness: {}, Kurtosis: {}'.format(mean,var,skew,kurt))\n",
    "mu1 = df_all_states.loc['LA','conf_mean']\n",
    "mu2 = df_all_states.loc['CA','conf_mean']\n",
    "mu3 = df_all_states.loc['FL','conf_mean']\n",
    "mu4 = df_all_states.loc['SC','conf_mean']\n",
    "mu5 = df_all_states.loc['ME','conf_mean']\n",
    "d={'VA': poisson.pmf(x,mu), 'LA': poisson.pmf(x,mu1),'CA': poisson.pmf(x,mu2), 'FL': poisson.pmf(x,mu3),'SC': poisson.pmf(x,mu4),'ME': poisson.pmf(x,mu5) }\n",
    "ddf = pd.DataFrame(data=d)\n",
    "fig = px.scatter(ddf,x=x, y=['VA','LA','CA','FL','SC','ME'], title='Poisson distribution for confirmed cases').update_traces(mode='lines+markers')\n",
    "# fig.show()\n",
    "imgg = pio.to_image(fig,format='png')\n",
    "Image(imgg)"
   ]
  },
  {
   "cell_type": "markdown",
   "metadata": {},
   "source": [
    "## Model Poisson distribution for deaths"
   ]
  },
  {
   "cell_type": "code",
   "execution_count": 675,
   "metadata": {},
   "outputs": [
    {
     "data": {
      "image/png": "[encoded data removed]",
      "text/plain": [
       "<IPython.core.display.Image object>"
      ]
     },
     "execution_count": 675,
     "metadata": {},
     "output_type": "execute_result"
    }
   ],
   "source": [
    "# model Poisson distribution for deaths\n",
    "x = np.arange(0,10,1)\n",
    "mu = df_all_states.loc['VA','deaths_mean']\n",
    "mu1 = df_all_states.loc['LA','deaths_mean']\n",
    "mu2 = df_all_states.loc['CA','deaths_mean']\n",
    "mu3 = df_all_states.loc['FL','deaths_mean']\n",
    "mu4 = df_all_states.loc['SC','deaths_mean']\n",
    "mu5 = df_all_states.loc['ME','deaths_mean']\n",
    "d={'VA': poisson.pmf(x,mu), 'LA': poisson.pmf(x,mu1),'CA': poisson.pmf(x,mu2), 'FL': poisson.pmf(x,mu3),'SC': poisson.pmf(x,mu4),'ME': poisson.pmf(x,mu5) }\n",
    "ddf = pd.DataFrame(data=d)\n",
    "fig = px.line(ddf,x=x, y=['VA','LA','CA','FL','SC','ME'], labels=dict(x=\"Deaths Mean\"), title='Poisson distribution for deaths').update_traces(mode='lines+markers')\n",
    "# fig.show()\n",
    "imgg = pio.to_image(fig,format='png')\n",
    "Image(imgg)"
   ]
  },
  {
   "cell_type": "markdown",
   "metadata": {},
   "source": [
    "## - Model poisson distributions for North Carolina counties for COVID-19 in cases and deaths. Number of new cases and deaths per 1,000,000 populations."
   ]
  },
  {
   "cell_type": "code",
   "execution_count": 676,
   "metadata": {},
   "outputs": [
    {
     "name": "stdout",
     "output_type": "stream",
     "text": [
      "\n",
      "\n",
      "Mean/Median/Mode for confirmed cases and death rates for each county in North Carolina State.\n",
      "\n",
      "\n",
      " \"Duplin County\",\"Montgomery County\", \"Robeson County\",\"Tyrrell County\" and \"Sampson County\" are the top 5 counties with highest confirmed cases. The rates shown below are per 1,000,000 population.\n",
      "\n",
      "              County Name  conf_mean\n",
      "84  Statewide Unallocated        inf\n",
      "30          Duplin County      151.0\n",
      "61      Montgomery County      149.0\n",
      "77         Robeson County      126.0\n",
      "89         Tyrrell County      113.0\n",
      "81         Sampson County      112.0\n",
      "\n",
      " \"Columbus County\", \"Hertford County\", \"Duplin County\", \"Northampton County\" and \"Vance County\" are the top 5 counties with highest deaths. The rates shown below are per 1,000,000 population.\n",
      "\n",
      "           County Name  deaths_mean\n",
      "23     Columbus County          4.0\n",
      "45     Hertford County          4.0\n",
      "30       Duplin County          4.0\n",
      "65  Northampton County          4.0\n",
      "91        Vance County          4.0\n"
     ]
    }
   ],
   "source": [
    "# Find cunties with highest mean cases and deaths for North Carolina counties\n",
    "merged_COVID19_NC = merged_COVID19[merged_COVID19['State']=='NC']\n",
    "\n",
    "data=[]\n",
    "grouped = merged_COVID19_NC.groupby('County Name')\n",
    "for county, group in grouped:\n",
    "    popu = group['population'].iloc[1]\n",
    "    a2 = group[['confirmed_cases','deaths']].diff().add_suffix('_diff')\n",
    "    mean1 = ((a2[['confirmed_cases_diff','deaths_diff']].mean()/popu)*1000000).reset_index().round()\n",
    "    data.append([county,mean1.iloc[0,1],mean1.iloc[1,1]])\n",
    "df_grupedby_county_NC = pd.DataFrame(data,columns=['County Name','conf_mean','deaths_mean'])\n",
    "print('\\n\\nMean/Median/Mode for confirmed cases and death rates for each county in North Carolina State.\\n')\n",
    "print('\\n \"Duplin County\",\"Montgomery County\", \"Robeson County\",\"Tyrrell County\" and \"Sampson County\" are the top 5 counties with highest confirmed cases. The rates shown below are per 1,000,000 population.\\n')\n",
    "temp_conf = df_grupedby_county_NC.sort_values(['conf_mean'], ascending=False)[['County Name','conf_mean']].head(6)\n",
    "print(temp_conf)\n",
    "\n",
    "print('\\n \"Columbus County\", \"Hertford County\", \"Duplin County\", \"Northampton County\" and \"Vance County\" are the top 5 counties with highest deaths. The rates shown below are per 1,000,000 population.\\n')\n",
    "temp_deaths = df_grupedby_county_NC.sort_values(['deaths_mean'] ,ascending=False)[['County Name','deaths_mean']].head(5)\n",
    "print(temp_deaths)\n",
    "\n"
   ]
  },
  {
   "cell_type": "markdown",
   "metadata": {},
   "source": [
    "## model poisson distribution for confirmed cases for NC state"
   ]
  },
  {
   "cell_type": "code",
   "execution_count": 677,
   "metadata": {},
   "outputs": [
    {
     "data": {
      "image/png": "[encoded data removed]",
      "text/plain": [
       "<IPython.core.display.Image object>"
      ]
     },
     "execution_count": 677,
     "metadata": {},
     "output_type": "execute_result"
    }
   ],
   "source": [
    "# model poisson distribution for confirmed cases fo NC state\n",
    "x = np.arange(50,200,5)\n",
    "# df_grupedby_county_NC.set_index('County Name', inplace=True)\n",
    "mu = temp_conf.iloc[1,1]\n",
    "mu1 = temp_conf.iloc[2,1]\n",
    "mu2 = temp_conf.iloc[3,1]\n",
    "mu3 = temp_conf.iloc[4,1]\n",
    "mu4 = temp_conf.iloc[5,1]\n",
    "d={temp_conf.iloc[1,0]: poisson.pmf(x,mu), temp_conf.iloc[2,0]: poisson.pmf(x,mu1),temp_conf.iloc[3,0]: poisson.pmf(x,mu2), temp_conf.iloc[4,0]: poisson.pmf(x,mu3),temp_conf.iloc[5,0]: poisson.pmf(x,mu4)}\n",
    "ddf = pd.DataFrame(data=d)\n",
    "fig = px.line(ddf,x=x, y=[temp_conf.iloc[1,0],temp_conf.iloc[2,0],temp_conf.iloc[3,0],temp_conf.iloc[4,0],temp_conf.iloc[5,0]], labels=dict(x=\"Mean\"), title='Poisson distribution for confirmed cases for top 5 counties of North Carolina').update_traces(mode='lines+markers')\n",
    "# fig.show()\n",
    "imgg = pio.to_image(fig,format='png')\n",
    "Image(imgg)"
   ]
  },
  {
   "cell_type": "markdown",
   "metadata": {},
   "source": [
    "## model poisson distribution for deaths for NC state (All 5 counties are overlapping because of the same value of mean)"
   ]
  },
  {
   "cell_type": "code",
   "execution_count": 678,
   "metadata": {},
   "outputs": [
    {
     "data": {
      "image/png": "[encoded data removed]",
      "text/plain": [
       "<IPython.core.display.Image object>"
      ]
     },
     "execution_count": 678,
     "metadata": {},
     "output_type": "execute_result"
    }
   ],
   "source": [
    "## model poisson distribution for deaths for NC state\n",
    "x = np.arange(0,15)\n",
    "# df_grupedby_county_NC.set_index('County Name', inplace=True)\n",
    "mu = temp_deaths.iloc[0,1]\n",
    "mu1 = temp_deaths.iloc[1,1]\n",
    "mu2 = temp_deaths.iloc[2,1]\n",
    "mu3 = temp_deaths.iloc[3,1]\n",
    "mu4 = temp_deaths.iloc[4,1]\n",
    "d={temp_deaths.iloc[0,0]: poisson.pmf(x,mu), temp_deaths.iloc[1,0]: poisson.pmf(x,mu1),temp_deaths.iloc[2,0]: poisson.pmf(x,mu2), temp_deaths.iloc[3,0]: poisson.pmf(x,mu3),temp_deaths.iloc[4,0]: poisson.pmf(x,mu4)}\n",
    "ddf = pd.DataFrame(data=d)\n",
    "fig = px.line(ddf,x=x, y=[temp_deaths.iloc[0,0],temp_deaths.iloc[1,0],temp_deaths.iloc[2,0],temp_deaths.iloc[3,0],temp_deaths.iloc[4,0]], labels=dict(x=\"Mean\"), title='Poisson distribution for deaths for top 5 counties for North Carolina')\n",
    "# fig.show() \n",
    "imgg = pio.to_image(fig,format='png')\n",
    "Image(imgg)"
   ]
  },
  {
   "cell_type": "markdown",
   "metadata": {},
   "source": [
    "# - Perform corelation between Enrichment data valiables and COVID-19 cases to observe any patterns.\n",
    "###    - You can compare either within your chosen specific state or among different states with the different enrichment variables. Within the state you can compare the county based data to enrichment for correlation. Between states you would need to aggregate to state level data and then perform correlation. "
   ]
  },
  {
   "cell_type": "code",
   "execution_count": 679,
   "metadata": {},
   "outputs": [
    {
     "data": {
      "text/html": [
       "<div>\n",
       "<style scoped>\n",
       "    .dataframe tbody tr th:only-of-type {\n",
       "        vertical-align: middle;\n",
       "    }\n",
       "\n",
       "    .dataframe tbody tr th {\n",
       "        vertical-align: top;\n",
       "    }\n",
       "\n",
       "    .dataframe thead th {\n",
       "        text-align: right;\n",
       "    }\n",
       "</style>\n",
       "<table border=\"1\" class=\"dataframe\">\n",
       "  <thead>\n",
       "    <tr style=\"text-align: right;\">\n",
       "      <th></th>\n",
       "      <th>countyFIPS</th>\n",
       "      <th>County Name</th>\n",
       "      <th>State</th>\n",
       "      <th>population</th>\n",
       "      <th>dates</th>\n",
       "      <th>confirmed_cases</th>\n",
       "      <th>deaths</th>\n",
       "      <th>OBJECTID</th>\n",
       "      <th>HOSPITAL_NAME</th>\n",
       "      <th>NUM_LICENSED_BEDS</th>\n",
       "      <th>NUM_STAFFED_BEDS</th>\n",
       "      <th>NUM_ICU_BEDS</th>\n",
       "      <th>ADULT_ICU_BEDS</th>\n",
       "      <th>PEDI_ICU_BEDS</th>\n",
       "      <th>BED_UTILIZATION</th>\n",
       "      <th>Potential_Increase_In_Bed_Capac</th>\n",
       "      <th>AVG_VENTILATOR_USAGE</th>\n",
       "    </tr>\n",
       "  </thead>\n",
       "  <tbody>\n",
       "    <tr>\n",
       "      <th>0</th>\n",
       "      <td>1001</td>\n",
       "      <td>Autauga County</td>\n",
       "      <td>AL</td>\n",
       "      <td>55869</td>\n",
       "      <td>1/22/20</td>\n",
       "      <td>0</td>\n",
       "      <td>0</td>\n",
       "      <td>18</td>\n",
       "      <td>Prattville Baptist Hospital</td>\n",
       "      <td>85.0</td>\n",
       "      <td>55.0</td>\n",
       "      <td>6</td>\n",
       "      <td>6</td>\n",
       "      <td>0.0</td>\n",
       "      <td>0.623113</td>\n",
       "      <td>30</td>\n",
       "      <td>2</td>\n",
       "    </tr>\n",
       "    <tr>\n",
       "      <th>1</th>\n",
       "      <td>1001</td>\n",
       "      <td>Autauga County</td>\n",
       "      <td>AL</td>\n",
       "      <td>55869</td>\n",
       "      <td>1/23/20</td>\n",
       "      <td>0</td>\n",
       "      <td>0</td>\n",
       "      <td>18</td>\n",
       "      <td>Prattville Baptist Hospital</td>\n",
       "      <td>85.0</td>\n",
       "      <td>55.0</td>\n",
       "      <td>6</td>\n",
       "      <td>6</td>\n",
       "      <td>0.0</td>\n",
       "      <td>0.623113</td>\n",
       "      <td>30</td>\n",
       "      <td>2</td>\n",
       "    </tr>\n",
       "    <tr>\n",
       "      <th>2</th>\n",
       "      <td>1001</td>\n",
       "      <td>Autauga County</td>\n",
       "      <td>AL</td>\n",
       "      <td>55869</td>\n",
       "      <td>1/24/20</td>\n",
       "      <td>0</td>\n",
       "      <td>0</td>\n",
       "      <td>18</td>\n",
       "      <td>Prattville Baptist Hospital</td>\n",
       "      <td>85.0</td>\n",
       "      <td>55.0</td>\n",
       "      <td>6</td>\n",
       "      <td>6</td>\n",
       "      <td>0.0</td>\n",
       "      <td>0.623113</td>\n",
       "      <td>30</td>\n",
       "      <td>2</td>\n",
       "    </tr>\n",
       "    <tr>\n",
       "      <th>3</th>\n",
       "      <td>1001</td>\n",
       "      <td>Autauga County</td>\n",
       "      <td>AL</td>\n",
       "      <td>55869</td>\n",
       "      <td>1/25/20</td>\n",
       "      <td>0</td>\n",
       "      <td>0</td>\n",
       "      <td>18</td>\n",
       "      <td>Prattville Baptist Hospital</td>\n",
       "      <td>85.0</td>\n",
       "      <td>55.0</td>\n",
       "      <td>6</td>\n",
       "      <td>6</td>\n",
       "      <td>0.0</td>\n",
       "      <td>0.623113</td>\n",
       "      <td>30</td>\n",
       "      <td>2</td>\n",
       "    </tr>\n",
       "    <tr>\n",
       "      <th>4</th>\n",
       "      <td>1001</td>\n",
       "      <td>Autauga County</td>\n",
       "      <td>AL</td>\n",
       "      <td>55869</td>\n",
       "      <td>1/26/20</td>\n",
       "      <td>0</td>\n",
       "      <td>0</td>\n",
       "      <td>18</td>\n",
       "      <td>Prattville Baptist Hospital</td>\n",
       "      <td>85.0</td>\n",
       "      <td>55.0</td>\n",
       "      <td>6</td>\n",
       "      <td>6</td>\n",
       "      <td>0.0</td>\n",
       "      <td>0.623113</td>\n",
       "      <td>30</td>\n",
       "      <td>2</td>\n",
       "    </tr>\n",
       "  </tbody>\n",
       "</table>\n",
       "</div>"
      ],
      "text/plain": [
       "   countyFIPS     County Name State  population    dates  confirmed_cases  \\\n",
       "0        1001  Autauga County    AL       55869  1/22/20                0   \n",
       "1        1001  Autauga County    AL       55869  1/23/20                0   \n",
       "2        1001  Autauga County    AL       55869  1/24/20                0   \n",
       "3        1001  Autauga County    AL       55869  1/25/20                0   \n",
       "4        1001  Autauga County    AL       55869  1/26/20                0   \n",
       "\n",
       "   deaths  OBJECTID                HOSPITAL_NAME  NUM_LICENSED_BEDS  \\\n",
       "0       0        18  Prattville Baptist Hospital               85.0   \n",
       "1       0        18  Prattville Baptist Hospital               85.0   \n",
       "2       0        18  Prattville Baptist Hospital               85.0   \n",
       "3       0        18  Prattville Baptist Hospital               85.0   \n",
       "4       0        18  Prattville Baptist Hospital               85.0   \n",
       "\n",
       "   NUM_STAFFED_BEDS  NUM_ICU_BEDS  ADULT_ICU_BEDS  PEDI_ICU_BEDS  \\\n",
       "0              55.0             6               6            0.0   \n",
       "1              55.0             6               6            0.0   \n",
       "2              55.0             6               6            0.0   \n",
       "3              55.0             6               6            0.0   \n",
       "4              55.0             6               6            0.0   \n",
       "\n",
       "   BED_UTILIZATION  Potential_Increase_In_Bed_Capac  AVG_VENTILATOR_USAGE  \n",
       "0         0.623113                               30                     2  \n",
       "1         0.623113                               30                     2  \n",
       "2         0.623113                               30                     2  \n",
       "3         0.623113                               30                     2  \n",
       "4         0.623113                               30                     2  "
      ]
     },
     "execution_count": 679,
     "metadata": {},
     "output_type": "execute_result"
    }
   ],
   "source": [
    "\n",
    "# Read the COVID 19 hospital beds combined csv file\n",
    "covid_beds = pd.read_csv(\"../Data/Output/COVID19_Enrichment_Combined.csv\")\n",
    "covid_beds.columns\n",
    "\n",
    "# Dropping duplicate columns and unnecessary columns\n",
    "covid_beds = covid_beds.drop(['Unnamed: 0'],axis=1).fillna(0)\n",
    "covid_beds.head()\n",
    "\n"
   ]
  },
  {
   "cell_type": "markdown",
   "metadata": {},
   "source": [
    "## Choose data for state \"VA\" for finding correlation"
   ]
  },
  {
   "cell_type": "code",
   "execution_count": 680,
   "metadata": {},
   "outputs": [
    {
     "data": {
      "text/html": [
       "<div>\n",
       "<style scoped>\n",
       "    .dataframe tbody tr th:only-of-type {\n",
       "        vertical-align: middle;\n",
       "    }\n",
       "\n",
       "    .dataframe tbody tr th {\n",
       "        vertical-align: top;\n",
       "    }\n",
       "\n",
       "    .dataframe thead th {\n",
       "        text-align: right;\n",
       "    }\n",
       "</style>\n",
       "<table border=\"1\" class=\"dataframe\">\n",
       "  <thead>\n",
       "    <tr style=\"text-align: right;\">\n",
       "      <th></th>\n",
       "      <th>confirmed_cases</th>\n",
       "      <th>deaths</th>\n",
       "      <th>population</th>\n",
       "      <th>NUM_STAFFED_BEDS</th>\n",
       "      <th>NUM_LICENSED_BEDS</th>\n",
       "      <th>NUM_ICU_BEDS</th>\n",
       "      <th>ADULT_ICU_BEDS</th>\n",
       "      <th>PEDI_ICU_BEDS</th>\n",
       "      <th>BED_UTILIZATION</th>\n",
       "      <th>Potential_Increase_In_Bed_Capac</th>\n",
       "      <th>AVG_VENTILATOR_USAGE</th>\n",
       "    </tr>\n",
       "    <tr>\n",
       "      <th>County Name</th>\n",
       "      <th></th>\n",
       "      <th></th>\n",
       "      <th></th>\n",
       "      <th></th>\n",
       "      <th></th>\n",
       "      <th></th>\n",
       "      <th></th>\n",
       "      <th></th>\n",
       "      <th></th>\n",
       "      <th></th>\n",
       "      <th></th>\n",
       "    </tr>\n",
       "  </thead>\n",
       "  <tbody>\n",
       "    <tr>\n",
       "      <th>Accomack County</th>\n",
       "      <td>1161</td>\n",
       "      <td>19</td>\n",
       "      <td>32316</td>\n",
       "      <td>46.0</td>\n",
       "      <td>52.0</td>\n",
       "      <td>10</td>\n",
       "      <td>10</td>\n",
       "      <td>0.0</td>\n",
       "      <td>0.461584</td>\n",
       "      <td>6</td>\n",
       "      <td>3</td>\n",
       "    </tr>\n",
       "    <tr>\n",
       "      <th>Albemarle County</th>\n",
       "      <td>1140</td>\n",
       "      <td>19</td>\n",
       "      <td>109330</td>\n",
       "      <td>240.0</td>\n",
       "      <td>266.0</td>\n",
       "      <td>18</td>\n",
       "      <td>18</td>\n",
       "      <td>0.0</td>\n",
       "      <td>2.108420</td>\n",
       "      <td>26</td>\n",
       "      <td>8</td>\n",
       "    </tr>\n",
       "    <tr>\n",
       "      <th>Alleghany County</th>\n",
       "      <td>75</td>\n",
       "      <td>4</td>\n",
       "      <td>14860</td>\n",
       "      <td>95.0</td>\n",
       "      <td>205.0</td>\n",
       "      <td>10</td>\n",
       "      <td>10</td>\n",
       "      <td>0.0</td>\n",
       "      <td>0.159712</td>\n",
       "      <td>110</td>\n",
       "      <td>2</td>\n",
       "    </tr>\n",
       "    <tr>\n",
       "      <th>Arlington County</th>\n",
       "      <td>3759</td>\n",
       "      <td>145</td>\n",
       "      <td>236842</td>\n",
       "      <td>305.0</td>\n",
       "      <td>394.0</td>\n",
       "      <td>32</td>\n",
       "      <td>32</td>\n",
       "      <td>0.0</td>\n",
       "      <td>0.798123</td>\n",
       "      <td>89</td>\n",
       "      <td>11</td>\n",
       "    </tr>\n",
       "    <tr>\n",
       "      <th>Augusta County</th>\n",
       "      <td>436</td>\n",
       "      <td>7</td>\n",
       "      <td>75558</td>\n",
       "      <td>209.0</td>\n",
       "      <td>238.0</td>\n",
       "      <td>8</td>\n",
       "      <td>8</td>\n",
       "      <td>0.0</td>\n",
       "      <td>0.488392</td>\n",
       "      <td>29</td>\n",
       "      <td>5</td>\n",
       "    </tr>\n",
       "    <tr>\n",
       "      <th>...</th>\n",
       "      <td>...</td>\n",
       "      <td>...</td>\n",
       "      <td>...</td>\n",
       "      <td>...</td>\n",
       "      <td>...</td>\n",
       "      <td>...</td>\n",
       "      <td>...</td>\n",
       "      <td>...</td>\n",
       "      <td>...</td>\n",
       "      <td>...</td>\n",
       "      <td>...</td>\n",
       "    </tr>\n",
       "    <tr>\n",
       "      <th>Williamsburg City</th>\n",
       "      <td>167</td>\n",
       "      <td>7</td>\n",
       "      <td>14954</td>\n",
       "      <td>40.0</td>\n",
       "      <td>40.0</td>\n",
       "      <td>10</td>\n",
       "      <td>10</td>\n",
       "      <td>0.0</td>\n",
       "      <td>0.390205</td>\n",
       "      <td>0</td>\n",
       "      <td>2</td>\n",
       "    </tr>\n",
       "    <tr>\n",
       "      <th>Winchester city</th>\n",
       "      <td>471</td>\n",
       "      <td>4</td>\n",
       "      <td>28078</td>\n",
       "      <td>389.0</td>\n",
       "      <td>455.0</td>\n",
       "      <td>48</td>\n",
       "      <td>48</td>\n",
       "      <td>0.0</td>\n",
       "      <td>0.711617</td>\n",
       "      <td>66</td>\n",
       "      <td>21</td>\n",
       "    </tr>\n",
       "    <tr>\n",
       "      <th>Wise County</th>\n",
       "      <td>382</td>\n",
       "      <td>7</td>\n",
       "      <td>37383</td>\n",
       "      <td>68.0</td>\n",
       "      <td>134.0</td>\n",
       "      <td>8</td>\n",
       "      <td>8</td>\n",
       "      <td>0.0</td>\n",
       "      <td>0.190572</td>\n",
       "      <td>66</td>\n",
       "      <td>3</td>\n",
       "    </tr>\n",
       "    <tr>\n",
       "      <th>Wythe County</th>\n",
       "      <td>209</td>\n",
       "      <td>3</td>\n",
       "      <td>28684</td>\n",
       "      <td>92.0</td>\n",
       "      <td>92.0</td>\n",
       "      <td>6</td>\n",
       "      <td>6</td>\n",
       "      <td>0.0</td>\n",
       "      <td>0.170965</td>\n",
       "      <td>0</td>\n",
       "      <td>2</td>\n",
       "    </tr>\n",
       "    <tr>\n",
       "      <th>York County</th>\n",
       "      <td>509</td>\n",
       "      <td>6</td>\n",
       "      <td>68280</td>\n",
       "      <td>189.0</td>\n",
       "      <td>195.0</td>\n",
       "      <td>16</td>\n",
       "      <td>16</td>\n",
       "      <td>0.0</td>\n",
       "      <td>1.219886</td>\n",
       "      <td>6</td>\n",
       "      <td>5</td>\n",
       "    </tr>\n",
       "  </tbody>\n",
       "</table>\n",
       "<p>61 rows × 11 columns</p>\n",
       "</div>"
      ],
      "text/plain": [
       "                   confirmed_cases  deaths  population  NUM_STAFFED_BEDS  \\\n",
       "County Name                                                                \n",
       "Accomack County               1161      19       32316              46.0   \n",
       "Albemarle County              1140      19      109330             240.0   \n",
       "Alleghany County                75       4       14860              95.0   \n",
       "Arlington County              3759     145      236842             305.0   \n",
       "Augusta County                 436       7       75558             209.0   \n",
       "...                            ...     ...         ...               ...   \n",
       "Williamsburg City              167       7       14954              40.0   \n",
       "Winchester city                471       4       28078             389.0   \n",
       "Wise County                    382       7       37383              68.0   \n",
       "Wythe County                   209       3       28684              92.0   \n",
       "York County                    509       6       68280             189.0   \n",
       "\n",
       "                   NUM_LICENSED_BEDS  NUM_ICU_BEDS  ADULT_ICU_BEDS  \\\n",
       "County Name                                                          \n",
       "Accomack County                 52.0            10              10   \n",
       "Albemarle County               266.0            18              18   \n",
       "Alleghany County               205.0            10              10   \n",
       "Arlington County               394.0            32              32   \n",
       "Augusta County                 238.0             8               8   \n",
       "...                              ...           ...             ...   \n",
       "Williamsburg City               40.0            10              10   \n",
       "Winchester city                455.0            48              48   \n",
       "Wise County                    134.0             8               8   \n",
       "Wythe County                    92.0             6               6   \n",
       "York County                    195.0            16              16   \n",
       "\n",
       "                   PEDI_ICU_BEDS  BED_UTILIZATION  \\\n",
       "County Name                                         \n",
       "Accomack County              0.0         0.461584   \n",
       "Albemarle County             0.0         2.108420   \n",
       "Alleghany County             0.0         0.159712   \n",
       "Arlington County             0.0         0.798123   \n",
       "Augusta County               0.0         0.488392   \n",
       "...                          ...              ...   \n",
       "Williamsburg City            0.0         0.390205   \n",
       "Winchester city              0.0         0.711617   \n",
       "Wise County                  0.0         0.190572   \n",
       "Wythe County                 0.0         0.170965   \n",
       "York County                  0.0         1.219886   \n",
       "\n",
       "                   Potential_Increase_In_Bed_Capac  AVG_VENTILATOR_USAGE  \n",
       "County Name                                                               \n",
       "Accomack County                                  6                     3  \n",
       "Albemarle County                                26                     8  \n",
       "Alleghany County                               110                     2  \n",
       "Arlington County                                89                    11  \n",
       "Augusta County                                  29                     5  \n",
       "...                                            ...                   ...  \n",
       "Williamsburg City                                0                     2  \n",
       "Winchester city                                 66                    21  \n",
       "Wise County                                     66                     3  \n",
       "Wythe County                                     0                     2  \n",
       "York County                                      6                     5  \n",
       "\n",
       "[61 rows x 11 columns]"
      ]
     },
     "execution_count": 680,
     "metadata": {},
     "output_type": "execute_result"
    }
   ],
   "source": [
    "# Choose data for state \"VA\" every day new cases\n",
    "covid_beds_VA = covid_beds[covid_beds['State']=='VA'].copy()\n",
    "covid_beds_VA_last_day = covid_beds_VA[covid_beds_VA['dates']=='9/15/20']\n",
    "a1 = covid_beds_VA_last_day.groupby('County Name')['NUM_STAFFED_BEDS','NUM_LICENSED_BEDS','NUM_ICU_BEDS',\\\n",
    "                                                   'ADULT_ICU_BEDS','PEDI_ICU_BEDS','BED_UTILIZATION',\\\n",
    "                                                   'Potential_Increase_In_Bed_Capac','AVG_VENTILATOR_USAGE'].sum().reset_index()\n",
    "a2 = covid_beds_VA_last_day.groupby('County Name')[['confirmed_cases','deaths','population']].mean()\n",
    "covid_beds_VA_agg = a2.merge(a1,on='County Name').set_index('County Name')\n",
    "\n",
    "# covid_beds_VA_agg = (covid_beds_VA_agg.div(a2['population'],axis=0))*10000\n",
    "covid_beds_VA_agg"
   ]
  },
  {
   "cell_type": "markdown",
   "metadata": {},
   "source": [
    "## correlation between confirmed cases, deaths and population from covid datset to enrichment dataset\n",
    "    - We see strong/high correlation between Number of ICU beds and deaths, Adults ICU Beds and deaths. This correlation does not mean that if a county/state has more ICCU beds then there are more deaths. There are other factors too which can be combined with correlation information to give us some information. For example, we see that Number ICU Beds and deaths have high correlation, from that we can see that population and Number ICU beds also have high correlation. It means that a county with high population may have higher numbe rof ICU beds and becasue this is a high population county, the number of deaths are also higher."
   ]
  },
  {
   "cell_type": "code",
   "execution_count": 681,
   "metadata": {},
   "outputs": [
    {
     "data": {
      "text/html": [
       "<div>\n",
       "<style scoped>\n",
       "    .dataframe tbody tr th:only-of-type {\n",
       "        vertical-align: middle;\n",
       "    }\n",
       "\n",
       "    .dataframe tbody tr th {\n",
       "        vertical-align: top;\n",
       "    }\n",
       "\n",
       "    .dataframe thead th {\n",
       "        text-align: right;\n",
       "    }\n",
       "</style>\n",
       "<table border=\"1\" class=\"dataframe\">\n",
       "  <thead>\n",
       "    <tr style=\"text-align: right;\">\n",
       "      <th></th>\n",
       "      <th>NUM_STAFFED_BEDS</th>\n",
       "      <th>NUM_LICENSED_BEDS</th>\n",
       "      <th>NUM_ICU_BEDS</th>\n",
       "      <th>ADULT_ICU_BEDS</th>\n",
       "      <th>PEDI_ICU_BEDS</th>\n",
       "      <th>BED_UTILIZATION</th>\n",
       "      <th>Potential_Increase_In_Bed_Capac</th>\n",
       "      <th>AVG_VENTILATOR_USAGE</th>\n",
       "    </tr>\n",
       "  </thead>\n",
       "  <tbody>\n",
       "    <tr>\n",
       "      <th>confirmed_cases</th>\n",
       "      <td>0.816587</td>\n",
       "      <td>0.790786</td>\n",
       "      <td>0.843116</td>\n",
       "      <td>0.843116</td>\n",
       "      <td>0.728937</td>\n",
       "      <td>0.730741</td>\n",
       "      <td>0.411513</td>\n",
       "      <td>0.715642</td>\n",
       "    </tr>\n",
       "    <tr>\n",
       "      <th>deaths</th>\n",
       "      <td>0.866032</td>\n",
       "      <td>0.849222</td>\n",
       "      <td>0.902047</td>\n",
       "      <td>0.902047</td>\n",
       "      <td>0.799565</td>\n",
       "      <td>0.731348</td>\n",
       "      <td>0.494287</td>\n",
       "      <td>0.716091</td>\n",
       "    </tr>\n",
       "    <tr>\n",
       "      <th>population</th>\n",
       "      <td>0.866925</td>\n",
       "      <td>0.840978</td>\n",
       "      <td>0.885502</td>\n",
       "      <td>0.885502</td>\n",
       "      <td>0.774344</td>\n",
       "      <td>0.784248</td>\n",
       "      <td>0.444803</td>\n",
       "      <td>0.751453</td>\n",
       "    </tr>\n",
       "  </tbody>\n",
       "</table>\n",
       "</div>"
      ],
      "text/plain": [
       "                 NUM_STAFFED_BEDS  NUM_LICENSED_BEDS  NUM_ICU_BEDS  \\\n",
       "confirmed_cases          0.816587           0.790786      0.843116   \n",
       "deaths                   0.866032           0.849222      0.902047   \n",
       "population               0.866925           0.840978      0.885502   \n",
       "\n",
       "                 ADULT_ICU_BEDS  PEDI_ICU_BEDS  BED_UTILIZATION  \\\n",
       "confirmed_cases        0.843116       0.728937         0.730741   \n",
       "deaths                 0.902047       0.799565         0.731348   \n",
       "population             0.885502       0.774344         0.784248   \n",
       "\n",
       "                 Potential_Increase_In_Bed_Capac  AVG_VENTILATOR_USAGE  \n",
       "confirmed_cases                         0.411513              0.715642  \n",
       "deaths                                  0.494287              0.716091  \n",
       "population                              0.444803              0.751453  "
      ]
     },
     "execution_count": 681,
     "metadata": {},
     "output_type": "execute_result"
    }
   ],
   "source": [
    "# calculate correlation between enrichment dataset and covid combined dataset\n",
    "correlation_matrix = covid_beds_VA_agg.corr().iloc[0:3,3:]\n",
    "# .iloc[1:4,5:]\n",
    "correlation_matrix"
   ]
  },
  {
   "cell_type": "markdown",
   "metadata": {},
   "source": [
    "## - Formulate hypothesis between Enrichment data and number of cases to be compared against states. Choose 3 different variables to compare against\n",
    "    - Does higher higher confirmed cases lead to higher bed utilization?\n",
    "    - Does higher deaths means higher ventilator usage?\n",
    "    - Does higher Number of Staffed beds means higher confirmed cases?\n",
    "    "
   ]
  },
  {
   "cell_type": "code",
   "execution_count": null,
   "metadata": {},
   "outputs": [],
   "source": []
  },
  {
   "cell_type": "code",
   "execution_count": null,
   "metadata": {},
   "outputs": [],
   "source": []
  }
 ],
 "metadata": {
  "kernelspec": {
   "display_name": "Python 3",
   "language": "python",
   "name": "python3"
  },
  "language_info": {
   "codemirror_mode": {
    "name": "ipython",
    "version": 3
   },
   "file_extension": ".py",
   "mimetype": "text/x-python",
   "name": "python",
   "nbconvert_exporter": "python",
   "pygments_lexer": "ipython3",
   "version": "3.7.6"
  }
 },
 "nbformat": 4,
 "nbformat_minor": 2
}
